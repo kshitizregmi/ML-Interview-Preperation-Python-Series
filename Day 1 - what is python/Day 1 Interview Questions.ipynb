{
 "cells": [
  {
   "cell_type": "markdown",
   "id": "80e53397-fa70-40a4-abcc-fc3c714dbb7a",
   "metadata": {},
   "source": [
    "# What is Python?\n",
    "\n",
    "Python is high-level, object oriented, interpreted, dynamically typed, platform independent, easy to learn Programming Language.\n",
    "\n",
    "### Is Python interpreted?\n",
    "➤ Yes, Python is an interpreted language, meaning code is executed line-by-line at runtime.\n",
    "\n",
    "### Is Python dynamically typed?\n",
    "➤ Yes, Python is dynamically typed, so you don’t need to declare variable types explicitly.\n",
    "\n",
    "### Is Python object-oriented?\n",
    "➤ Yes, Python supports object-oriented programming with classes, objects and inheritance.\n",
    "\n",
    "### Is Python portable?\n",
    "➤ Yes, Python is platform-independent, so code can run on any OS with a Python interpreter.\n",
    "\n",
    "### Is Python easy to learn?\n",
    "➤ Yes, Python has a simple and readable syntax, making it beginner-friendly.\n",
    "\n",
    "# What is High Level Programming Language?\n",
    "\n",
    "A high-level programming language is a language that is closer to human language and abstracts away most of the hardware details of the computer.\n",
    "\n",
    "### Features:\n",
    "- Easy to read and write (e.g., Python, Java, C#)\n",
    "- Portable across different systems\n",
    "- Automatic memory management\n",
    "- Built-in libraries and functions\n",
    "- More focus on logic than hardware\n"
   ]
  },
  {
   "cell_type": "code",
   "execution_count": null,
   "id": "7b863371-0a52-42a9-adea-11b6e74bd893",
   "metadata": {},
   "outputs": [],
   "source": [
    "a = 5"
   ]
  },
  {
   "cell_type": "code",
   "execution_count": null,
   "id": "b184472f-2343-4a74-aaa7-96833a241982",
   "metadata": {},
   "outputs": [],
   "source": [
    "print(a)"
   ]
  },
  {
   "cell_type": "markdown",
   "id": "7625ab6d-84fb-4527-ad5b-b6e044a598f4",
   "metadata": {},
   "source": [
    "# Dynamic typed"
   ]
  },
  {
   "cell_type": "code",
   "execution_count": null,
   "id": "ab64c1d4-6a76-4b21-ae2a-e1320abe4f11",
   "metadata": {},
   "outputs": [],
   "source": [
    "a = 5"
   ]
  },
  {
   "cell_type": "code",
   "execution_count": null,
   "id": "e022a6b1-c2e2-4fe7-9fd0-a940cb7e3f3c",
   "metadata": {},
   "outputs": [],
   "source": [
    "a"
   ]
  },
  {
   "cell_type": "code",
   "execution_count": null,
   "id": "0222150f-4504-4631-bfd1-07e0d97532b9",
   "metadata": {},
   "outputs": [],
   "source": [
    "a = 'Kshitiz'"
   ]
  },
  {
   "cell_type": "code",
   "execution_count": null,
   "id": "3397fba6-2db5-4091-b27e-2393e2021077",
   "metadata": {},
   "outputs": [],
   "source": [
    "a"
   ]
  },
  {
   "cell_type": "code",
   "execution_count": null,
   "id": "fbcd6828-b6d3-44d2-9629-37dcd243698d",
   "metadata": {},
   "outputs": [],
   "source": []
  },
  {
   "cell_type": "code",
   "execution_count": 1,
   "id": "7846017c-9c9f-47be-904f-b4212bee740a",
   "metadata": {},
   "outputs": [
    {
     "data": {
      "text/plain": [
       "2"
      ]
     },
     "execution_count": 1,
     "metadata": {},
     "output_type": "execute_result"
    }
   ],
   "source": [
    "1 + 1"
   ]
  },
  {
   "cell_type": "code",
   "execution_count": 2,
   "id": "0ff4aeaa-67eb-4b69-8cb6-a5026ee911a8",
   "metadata": {},
   "outputs": [
    {
     "data": {
      "text/plain": [
       "int"
      ]
     },
     "execution_count": 2,
     "metadata": {},
     "output_type": "execute_result"
    }
   ],
   "source": [
    "type(1)"
   ]
  },
  {
   "cell_type": "code",
   "execution_count": 3,
   "id": "89aaf757-fea3-44b6-bcc3-00414f0235d8",
   "metadata": {},
   "outputs": [
    {
     "data": {
      "text/plain": [
       "str"
      ]
     },
     "execution_count": 3,
     "metadata": {},
     "output_type": "execute_result"
    }
   ],
   "source": [
    "type(\"1\")"
   ]
  },
  {
   "cell_type": "code",
   "execution_count": 4,
   "id": "04c4df3d-3473-4c91-b8ad-36352a0a04ee",
   "metadata": {},
   "outputs": [
    {
     "data": {
      "text/plain": [
       "2"
      ]
     },
     "execution_count": 4,
     "metadata": {},
     "output_type": "execute_result"
    }
   ],
   "source": [
    "1 + 1"
   ]
  },
  {
   "cell_type": "code",
   "execution_count": 5,
   "id": "bd7e0256-d9b7-4a6e-bc68-d3b5b881dd3b",
   "metadata": {},
   "outputs": [
    {
     "ename": "TypeError",
     "evalue": "unsupported operand type(s) for +: 'int' and 'str'",
     "output_type": "error",
     "traceback": [
      "\u001b[0;31m---------------------------------------------------------------------------\u001b[0m",
      "\u001b[0;31mTypeError\u001b[0m                                 Traceback (most recent call last)",
      "Cell \u001b[0;32mIn[5], line 1\u001b[0m\n\u001b[0;32m----> 1\u001b[0m \u001b[38;5;241;43m1\u001b[39;49m\u001b[43m \u001b[49m\u001b[38;5;241;43m+\u001b[39;49m\u001b[43m \u001b[49m\u001b[38;5;124;43m\"\u001b[39;49m\u001b[38;5;124;43m1\u001b[39;49m\u001b[38;5;124;43m\"\u001b[39;49m\n",
      "\u001b[0;31mTypeError\u001b[0m: unsupported operand type(s) for +: 'int' and 'str'"
     ]
    }
   ],
   "source": [
    "1 + \"1\""
   ]
  },
  {
   "cell_type": "markdown",
   "id": "3a83da00-79ee-48be-a29b-673bf707d1a5",
   "metadata": {},
   "source": [
    "# Easy to learn"
   ]
  },
  {
   "cell_type": "code",
   "execution_count": 6,
   "id": "cd2fae1a-202a-406a-ab5b-5c2873eed150",
   "metadata": {},
   "outputs": [
    {
     "data": {
      "text/plain": [
       "10"
      ]
     },
     "execution_count": 6,
     "metadata": {},
     "output_type": "execute_result"
    }
   ],
   "source": [
    "5 + 5"
   ]
  },
  {
   "cell_type": "code",
   "execution_count": 9,
   "id": "7047ed98-de4f-4768-b1ca-2d631cdd3790",
   "metadata": {},
   "outputs": [
    {
     "name": "stdout",
     "output_type": "stream",
     "text": [
      "-50\n"
     ]
    }
   ],
   "source": [
    "num1 = 5\n",
    "num2 = 55\n",
    "total = num1 - num2 \n",
    "print(total)"
   ]
  },
  {
   "cell_type": "code",
   "execution_count": 13,
   "id": "25c5240f-2c4c-4ea7-be5b-fea6033bfb8f",
   "metadata": {},
   "outputs": [
    {
     "name": "stdout",
     "output_type": "stream",
     "text": [
      "kshitiz\n"
     ]
    }
   ],
   "source": [
    "firstname = \"kshitiz\" # firstname is variable and kshitiz is a value\n",
    "print(firstname)"
   ]
  },
  {
   "cell_type": "code",
   "execution_count": 16,
   "id": "4d6e9361-f1da-42a5-889e-924d9256a484",
   "metadata": {},
   "outputs": [
    {
     "name": "stdout",
     "output_type": "stream",
     "text": [
      "kshitiz\n"
     ]
    }
   ],
   "source": [
    "print('kshitiz')"
   ]
  },
  {
   "cell_type": "code",
   "execution_count": 17,
   "id": "5c8d73e8-03ad-4290-bad9-a0e157a3131e",
   "metadata": {},
   "outputs": [
    {
     "name": "stdout",
     "output_type": "stream",
     "text": [
      "kshitiz\n"
     ]
    }
   ],
   "source": [
    "print(\"kshitiz\")"
   ]
  },
  {
   "cell_type": "code",
   "execution_count": null,
   "id": "6acc04f3-bfe7-4111-854b-013305dd9529",
   "metadata": {},
   "outputs": [],
   "source": []
  }
 ],
 "metadata": {
  "kernelspec": {
   "display_name": "Python 3 (ipykernel)",
   "language": "python",
   "name": "python3"
  },
  "language_info": {
   "codemirror_mode": {
    "name": "ipython",
    "version": 3
   },
   "file_extension": ".py",
   "mimetype": "text/x-python",
   "name": "python",
   "nbconvert_exporter": "python",
   "pygments_lexer": "ipython3",
   "version": "3.12.4"
  }
 },
 "nbformat": 4,
 "nbformat_minor": 5
}
