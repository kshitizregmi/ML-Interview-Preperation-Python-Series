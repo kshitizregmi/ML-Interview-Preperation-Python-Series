{
 "cells": [
  {
   "cell_type": "markdown",
   "id": "5dbd4a63-0011-426b-b8ad-a9db9ace6d10",
   "metadata": {},
   "source": [
    "# 📘 Day 6: List vs Tuple 🔁 | ML Interview Prep - KodedByKshitiz\n",
    "\n",
    "\n",
    "| Feature               | List                              | Tuple                            |\n",
    "|-----------------------|----------------------------------|---------------------------------|\n",
    "| **Mutability**        | Mutable (can be changed)          | Immutable (cannot be changed)   |\n",
    "| **Syntax**            | Square brackets `[]`              | Parentheses `()`                |\n",
    "| **Memory Usage**      | Uses more memory                  | More memory efficient           |\n",
    "| **Use Case**          | When you need a collection to modify | When you need a fixed collection |\n",
    "| **Methods Available** | Many methods like `append()`, `remove()` | Fewer methods like count(), index() (no `append()`)   |\n",
    "| **Performance**       | Slightly slower for iteration     | Faster for iteration            |\n",
    "---\n",
    "\n",
    "**Summary:**  \n",
    "- Use **lists** when you need to add, remove or change data dynamically.  \n",
    "- Use **tuples** when your data is constant and you want better performance and memory efficiency."
   ]
  },
  {
   "cell_type": "markdown",
   "id": "bc1d1a8d-d5fd-4fac-9ed9-ec52cdc06f75",
   "metadata": {},
   "source": [
    "# Syntax"
   ]
  },
  {
   "cell_type": "code",
   "execution_count": 1,
   "id": "033ff1ff-4440-4717-b86d-43cbfa55ffea",
   "metadata": {},
   "outputs": [
    {
     "name": "stdout",
     "output_type": "stream",
     "text": [
      "<class 'list'>\n"
     ]
    }
   ],
   "source": [
    "car_list = [\"BMW\", \"Ferrari\"] # List is a collection of item under one variable name\n",
    "print(type(car_list))"
   ]
  },
  {
   "cell_type": "code",
   "execution_count": 2,
   "id": "22243866-4b38-4fb5-9d21-334f0f3b7243",
   "metadata": {},
   "outputs": [
    {
     "name": "stdout",
     "output_type": "stream",
     "text": [
      "<class 'tuple'>\n"
     ]
    }
   ],
   "source": [
    "car_tuples = (\"BMW\", \"Ferrari\") # Tuple is a collection of item under one variable name\n",
    "print(type(car_tuples))"
   ]
  },
  {
   "cell_type": "markdown",
   "id": "9951d83d-3177-41fc-b9f0-abbeb99d1d7a",
   "metadata": {},
   "source": [
    "# Mutablity"
   ]
  },
  {
   "cell_type": "code",
   "execution_count": 4,
   "id": "bf493fab-f91f-45f6-ba1d-4597e77a89b1",
   "metadata": {},
   "outputs": [
    {
     "data": {
      "text/plain": [
       "['BMW', 'Mercedes']"
      ]
     },
     "execution_count": 4,
     "metadata": {},
     "output_type": "execute_result"
    }
   ],
   "source": [
    "car_list = [\"BMW\", \"Ferrari\"] \n",
    "car_list[1] = 'Mercedes'  # list is a mutable data type\n",
    "car_list"
   ]
  },
  {
   "cell_type": "code",
   "execution_count": 5,
   "id": "f2c6b897-da06-4c3b-9f89-f6e77f3b496a",
   "metadata": {},
   "outputs": [
    {
     "ename": "TypeError",
     "evalue": "'tuple' object does not support item assignment",
     "output_type": "error",
     "traceback": [
      "\u001b[0;31m---------------------------------------------------------------------------\u001b[0m",
      "\u001b[0;31mTypeError\u001b[0m                                 Traceback (most recent call last)",
      "Cell \u001b[0;32mIn[5], line 2\u001b[0m\n\u001b[1;32m      1\u001b[0m car_tuples \u001b[38;5;241m=\u001b[39m (\u001b[38;5;124m\"\u001b[39m\u001b[38;5;124mBMW\u001b[39m\u001b[38;5;124m\"\u001b[39m, \u001b[38;5;124m\"\u001b[39m\u001b[38;5;124mFerrari\u001b[39m\u001b[38;5;124m\"\u001b[39m)\n\u001b[0;32m----> 2\u001b[0m \u001b[43mcar_tuples\u001b[49m\u001b[43m[\u001b[49m\u001b[38;5;241;43m1\u001b[39;49m\u001b[43m]\u001b[49m \u001b[38;5;241m=\u001b[39m \u001b[38;5;124m'\u001b[39m\u001b[38;5;124mMercedes\u001b[39m\u001b[38;5;124m'\u001b[39m\n\u001b[1;32m      3\u001b[0m car_tuples\n",
      "\u001b[0;31mTypeError\u001b[0m: 'tuple' object does not support item assignment"
     ]
    }
   ],
   "source": [
    "car_tuples = (\"BMW\", \"Ferrari\") # tuple is immutable data type\n",
    "car_tuples[1] = 'Mercedes'\n",
    "car_tuples"
   ]
  },
  {
   "cell_type": "code",
   "execution_count": null,
   "id": "c4e148b2-8329-4878-9c68-d162b85d65d6",
   "metadata": {},
   "outputs": [],
   "source": []
  },
  {
   "cell_type": "code",
   "execution_count": 6,
   "id": "1d94f9ec-7377-4b42-af04-8e4501b8e80b",
   "metadata": {},
   "outputs": [
    {
     "name": "stdout",
     "output_type": "stream",
     "text": [
      "129879893493632\n",
      "129879893493632\n"
     ]
    }
   ],
   "source": [
    "car_list = [\"BMW\", \"Ferrari\"] \n",
    "print(id(car_list))\n",
    "car_list[1] = 'Mercedes'  # list is a mutable data type\n",
    "print(id(car_list))"
   ]
  },
  {
   "cell_type": "code",
   "execution_count": null,
   "id": "ac68dd8c-707d-4aec-bd07-c7b83f8f5e3f",
   "metadata": {},
   "outputs": [],
   "source": []
  },
  {
   "cell_type": "code",
   "execution_count": null,
   "id": "4c5f7bcc-abe1-409c-9051-93031764d0b7",
   "metadata": {},
   "outputs": [],
   "source": []
  },
  {
   "cell_type": "code",
   "execution_count": null,
   "id": "5b3061d8-a2fc-41f5-bbd1-509351c12abc",
   "metadata": {},
   "outputs": [],
   "source": []
  },
  {
   "cell_type": "code",
   "execution_count": null,
   "id": "3fa1e957-d0bc-4684-9659-a8f9b2e24c2e",
   "metadata": {},
   "outputs": [],
   "source": []
  },
  {
   "cell_type": "markdown",
   "id": "bc90d419-192c-4411-ad51-39b1440672fc",
   "metadata": {},
   "source": [
    "# Memory Usage"
   ]
  },
  {
   "cell_type": "code",
   "execution_count": 7,
   "id": "c4c03135-297e-4755-b7a4-464d0b9e9957",
   "metadata": {},
   "outputs": [],
   "source": [
    "import random\n",
    "data_in_list = [random.randint(1, 49) for _ in range(50000)]\n",
    "data_in_tuple = tuple(data_in_list)"
   ]
  },
  {
   "cell_type": "code",
   "execution_count": 8,
   "id": "c7428ec5-61bc-4017-9b3a-86e33f439c09",
   "metadata": {},
   "outputs": [
    {
     "data": {
      "text/plain": [
       "[15, 20, 38, 41, 28]"
      ]
     },
     "execution_count": 8,
     "metadata": {},
     "output_type": "execute_result"
    }
   ],
   "source": [
    "data_in_list[:5]"
   ]
  },
  {
   "cell_type": "code",
   "execution_count": 9,
   "id": "63988b2e-86d5-4416-92af-2b9c28d02f26",
   "metadata": {},
   "outputs": [
    {
     "data": {
      "text/plain": [
       "(15, 20, 38, 41, 28)"
      ]
     },
     "execution_count": 9,
     "metadata": {},
     "output_type": "execute_result"
    }
   ],
   "source": [
    "data_in_tuple[:5]"
   ]
  },
  {
   "cell_type": "code",
   "execution_count": 10,
   "id": "f1696f9f-2fa7-4e6d-a72c-6da82905f557",
   "metadata": {},
   "outputs": [
    {
     "name": "stdout",
     "output_type": "stream",
     "text": [
      "List memory usage: 444376 bytes\n",
      "Tuple memory usage: 400040 bytes\n",
      "List uses more memory.\n"
     ]
    }
   ],
   "source": [
    "import sys\n",
    "list_mem = sys.getsizeof(data_in_list) # measure memory\n",
    "tuple_mem = sys.getsizeof(data_in_tuple)\n",
    "\n",
    "print(f\"List memory usage: {list_mem} bytes\")\n",
    "print(f\"Tuple memory usage: {tuple_mem} bytes\")\n",
    "\n",
    "if list_mem > tuple_mem:\n",
    "    print(\"List uses more memory.\")\n",
    "elif tuple_mem > list_mem:\n",
    "    print(\"Tuple uses more memory.\")\n",
    "else:\n",
    "    print(\"Both use the same amount of memory.\")"
   ]
  },
  {
   "cell_type": "code",
   "execution_count": null,
   "id": "d1fe57a1-a7d4-41e7-8313-312598323fe6",
   "metadata": {},
   "outputs": [],
   "source": []
  },
  {
   "cell_type": "code",
   "execution_count": null,
   "id": "42fc2ee5-f10c-4498-935c-b1317c70e737",
   "metadata": {},
   "outputs": [],
   "source": []
  }
 ],
 "metadata": {
  "kernelspec": {
   "display_name": "Python 3 (ipykernel)",
   "language": "python",
   "name": "python3"
  },
  "language_info": {
   "codemirror_mode": {
    "name": "ipython",
    "version": 3
   },
   "file_extension": ".py",
   "mimetype": "text/x-python",
   "name": "python",
   "nbconvert_exporter": "python",
   "pygments_lexer": "ipython3",
   "version": "3.12.4"
  }
 },
 "nbformat": 4,
 "nbformat_minor": 5
}
