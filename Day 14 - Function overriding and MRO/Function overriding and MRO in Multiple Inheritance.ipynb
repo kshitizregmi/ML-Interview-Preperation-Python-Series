{
 "cells": [
  {
   "cell_type": "markdown",
   "id": "6e0ccd45-b73f-4043-aab1-ed64e8e5428f",
   "metadata": {},
   "source": [
    "# Day 13: Polymorphism in Python - Function Overriding | ML Interview Prep - KodedByKshitiz\n",
    "\n",
    "\n",
    "* Polymorphism can occur in inheritance by overriding the parent class method or function on child class\n",
    "When a child class has a method with the same name, parameters, and return type as a method in its parent class, the child class's method overrides the parent class's method.\n",
    "\n"
   ]
  },
  {
   "cell_type": "code",
   "execution_count": null,
   "id": "69f23bb5-6964-4d4b-b9fc-ae44f7f81305",
   "metadata": {},
   "outputs": [],
   "source": []
  },
  {
   "cell_type": "code",
   "execution_count": null,
   "id": "d6167ff1-650f-4eed-912c-871cce6a92ea",
   "metadata": {},
   "outputs": [],
   "source": []
  },
  {
   "cell_type": "code",
   "execution_count": null,
   "id": "67a133f4-1d64-4442-aa24-2b86af37505b",
   "metadata": {},
   "outputs": [],
   "source": []
  },
  {
   "cell_type": "code",
   "execution_count": null,
   "id": "69f9649f-5930-48ab-8060-d469e66ce960",
   "metadata": {},
   "outputs": [],
   "source": []
  },
  {
   "cell_type": "code",
   "execution_count": null,
   "id": "d74e8e49-e127-4bff-b2a0-6ef8b55fcb25",
   "metadata": {},
   "outputs": [],
   "source": []
  },
  {
   "cell_type": "markdown",
   "id": "fc5bea57-6196-40a7-95db-4a5a3d92a118",
   "metadata": {},
   "source": [
    "\n",
    "## Step-by-Step: Function Overriding\n",
    "\n",
    "### **1. Understand Inheritance**\n",
    "Function overriding happens in **inheritance**, where a child class inherits from a parent class.\n",
    "\n",
    "```python\n",
    "class Animal:\n",
    "    def speak(self):\n",
    "        print(\"Animal speaks\")\n",
    "```\n",
    "\n",
    "### **2. Define a Child Class that Overrides a Method**\n",
    "The child class provides a **new implementation** of the same method.\n",
    "\n",
    "```python\n",
    "class Dog(Animal):\n",
    "    def speak(self):\n",
    "        print(\"Dog barks\")\n",
    "```\n",
    "\n",
    "### **3. Create Objects and Observe Behavior**\n",
    "When you call the method on the child class object, the **child's version** is used.\n",
    "\n",
    "```python\n",
    "a = Animal()\n",
    "a.speak()  # Output: Animal speaks\n",
    "\n",
    "d = Dog()\n",
    "d.speak()  # Output: Dog barks\n",
    "```\n",
    "\n",
    "**This is function overriding** — the child class overrides the parent class method."
   ]
  },
  {
   "cell_type": "code",
   "execution_count": null,
   "id": "dbf03db9-3955-499a-9882-29b89d05fa18",
   "metadata": {},
   "outputs": [],
   "source": []
  },
  {
   "cell_type": "code",
   "execution_count": null,
   "id": "6721d7e7-d5d5-489b-a4f5-e31ad1c04552",
   "metadata": {},
   "outputs": [],
   "source": []
  },
  {
   "cell_type": "code",
   "execution_count": null,
   "id": "fd9a1320-24d6-4cdb-851c-df9423fdfb36",
   "metadata": {},
   "outputs": [],
   "source": []
  },
  {
   "cell_type": "markdown",
   "id": "31718a53-782b-4fd7-966f-bf4aa4738132",
   "metadata": {},
   "source": [
    "# MRO (Method Resolution Order) \n",
    "* MRO determines **which method is called** when multiple inheritance is involved.\n",
    "* This is important in multiple inheritance to avoid ambiguity and ensure consistent behavior.\n",
    "\n",
    "Python uses the C3 linearization algorithm to compute the MRO."
   ]
  },
  {
   "cell_type": "code",
   "execution_count": 12,
   "id": "9fec6bb5-fad0-4a66-90de-2a65c0b8568e",
   "metadata": {},
   "outputs": [],
   "source": [
    "class A:\n",
    "    def show(self):\n",
    "        print(\"A\")\n",
    "\n",
    "class B:\n",
    "    def show(self):\n",
    "        print(\"B\")\n",
    "\n",
    "class C(A, B):\n",
    "    def __init__(self):\n",
    "        A.__init__(self)\n",
    "        B.__init__(self)\n",
    "    def show(self):\n",
    "        print(\"C\")"
   ]
  },
  {
   "cell_type": "code",
   "execution_count": 13,
   "id": "507f6fa4-c282-4615-b629-c797c8bee699",
   "metadata": {},
   "outputs": [
    {
     "name": "stdout",
     "output_type": "stream",
     "text": [
      "C\n"
     ]
    }
   ],
   "source": [
    "C().show()"
   ]
  },
  {
   "cell_type": "code",
   "execution_count": 14,
   "id": "5d48f98e-22f9-47f0-98de-fe8844397942",
   "metadata": {},
   "outputs": [
    {
     "name": "stdout",
     "output_type": "stream",
     "text": [
      "MRO of class C: (<class '__main__.C'>, <class '__main__.A'>, <class '__main__.B'>, <class 'object'>)\n"
     ]
    }
   ],
   "source": [
    "print(\"MRO of class C:\", C.__mro__)"
   ]
  },
  {
   "cell_type": "markdown",
   "id": "c7e533c1-8993-4aca-9535-40ff3ef1541a",
   "metadata": {},
   "source": [
    "# Another Example"
   ]
  },
  {
   "cell_type": "code",
   "execution_count": 9,
   "id": "7a6d89fa-a4b8-4213-bda1-eb4b360b88bd",
   "metadata": {},
   "outputs": [],
   "source": [
    "class A:\n",
    "    def show(self):\n",
    "        print(\"A\")\n",
    "\n",
    "class B:\n",
    "    def show(self):\n",
    "        print(\"B\")\n",
    "\n",
    "class C(A, B):\n",
    "    pass"
   ]
  },
  {
   "cell_type": "code",
   "execution_count": 10,
   "id": "faa7a047-8b6d-41f1-a91b-d19ab29ecf6e",
   "metadata": {},
   "outputs": [
    {
     "name": "stdout",
     "output_type": "stream",
     "text": [
      "A\n"
     ]
    }
   ],
   "source": [
    "C().show()"
   ]
  },
  {
   "cell_type": "code",
   "execution_count": 11,
   "id": "16638691-db41-478e-8c24-3d8a7c6f1bb7",
   "metadata": {},
   "outputs": [
    {
     "name": "stdout",
     "output_type": "stream",
     "text": [
      "MRO of class C: (<class '__main__.C'>, <class '__main__.A'>, <class '__main__.B'>, <class 'object'>)\n"
     ]
    }
   ],
   "source": [
    "print(\"MRO of class C:\", C.__mro__)"
   ]
  },
  {
   "cell_type": "markdown",
   "id": "6d5b36cd-4d0e-43b3-8316-05f2a6539ea6",
   "metadata": {},
   "source": [
    "# Another Example"
   ]
  },
  {
   "cell_type": "code",
   "execution_count": 7,
   "id": "7349fb19-1a36-4592-ac58-6a87c9b9028d",
   "metadata": {},
   "outputs": [
    {
     "name": "stdout",
     "output_type": "stream",
     "text": [
      "B\n"
     ]
    }
   ],
   "source": [
    "# Demonstrating Diamond Inheritance and MRO\n",
    "\n",
    "class A:\n",
    "    def show(self):\n",
    "        print(\"A\")\n",
    "\n",
    "class B(A):\n",
    "    def show(self):\n",
    "        print(\"B\")\n",
    "\n",
    "class C(A):\n",
    "    def show(self):\n",
    "        print(\"C\")\n",
    "\n",
    "class D(B, C):\n",
    "    pass\n",
    "\n",
    "# Create an instance of D and call the show method\n",
    "d = D()\n",
    "d.show() "
   ]
  },
  {
   "cell_type": "code",
   "execution_count": 8,
   "id": "89124976-206a-42c8-8853-1ba324f2516c",
   "metadata": {},
   "outputs": [
    {
     "name": "stdout",
     "output_type": "stream",
     "text": [
      "MRO of class D: (<class '__main__.D'>, <class '__main__.B'>, <class '__main__.C'>, <class '__main__.A'>, <class 'object'>)\n"
     ]
    }
   ],
   "source": [
    "# Print the Method Resolution Order\n",
    "print(\"MRO of class D:\", D.__mro__)"
   ]
  },
  {
   "cell_type": "markdown",
   "id": "1f9c0127-c82b-4f6d-8d4f-f88fae4710ff",
   "metadata": {},
   "source": [
    "\n",
    "---\n",
    "\n",
    "## Step-by-Step: Method Resolution Order (MRO)\n",
    "\n",
    "MRO determines **which method is called** when multiple inheritance is involved.\n",
    "\n",
    "### **1. Understand Multiple Inheritance**\n",
    "A class can inherit from more than one class.\n",
    "\n",
    "```python\n",
    "class A:\n",
    "    def show(self):\n",
    "        print(\"A\")\n",
    "\n",
    "class B:\n",
    "    def show(self):\n",
    "        print(\"B\")\n",
    "\n",
    "class C(A, B):\n",
    "    pass\n",
    "```\n",
    "\n",
    "### **2. Call the Method**\n",
    "```python\n",
    "c = C()\n",
    "c.show()  # Output: A\n",
    "```\n",
    "\n",
    "### **3. Check the MRO**\n",
    "Python uses the **C3 linearization algorithm** to determine the order.\n",
    "\n",
    "```python\n",
    "print(C.__mro__)\n",
    "# Output: (<class '__main__.C'>, <class '__main__.A'>, <class '__main__.B'>, <class 'object'>)\n",
    "```\n",
    "\n",
    "Python looks for the method in:\n",
    "1. Class `C`\n",
    "2. Then `A`\n",
    "3. Then `B`\n",
    "4. Then `object`\n",
    "\n",
    "---\n",
    "\n",
    "## Summary\n",
    "\n",
    "| Concept              | Description |\n",
    "|----------------------|-------------|\n",
    "| **Function Overriding** | Child class redefines a method from the parent class |\n",
    "| **MRO** | Python's rule to decide the method to call in multiple inheritance |"
   ]
  },
  {
   "cell_type": "code",
   "execution_count": null,
   "id": "ab0b6db9-5af9-4798-8acd-57512b7f7668",
   "metadata": {},
   "outputs": [],
   "source": []
  }
 ],
 "metadata": {
  "kernelspec": {
   "display_name": "Python 3 (ipykernel)",
   "language": "python",
   "name": "python3"
  },
  "language_info": {
   "codemirror_mode": {
    "name": "ipython",
    "version": 3
   },
   "file_extension": ".py",
   "mimetype": "text/x-python",
   "name": "python",
   "nbconvert_exporter": "python",
   "pygments_lexer": "ipython3",
   "version": "3.12.4"
  }
 },
 "nbformat": 4,
 "nbformat_minor": 5
}
