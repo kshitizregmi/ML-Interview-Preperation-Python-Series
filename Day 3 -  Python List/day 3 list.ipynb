{
 "cells": [
  {
   "cell_type": "markdown",
   "id": "f111e33c-997e-4e3e-811a-75666fffe3dd",
   "metadata": {},
   "source": [
    "# Day 3: Machine Learning Interview Prep\n",
    "## Python Learning Series: Working with Python Lists\n",
    "\n",
    "# List\n",
    "* It is one of the built-in data type in python (List, Tuple, Set and Dictionary)\n",
    "* Collection of Items under one variable name\n",
    "* Lists are indexed, ordered, mutable (can be changed), and allow duplicates.\n",
    "* Lists can hold elements of different data types: integers, strings, floats, even other lists."
   ]
  },
  {
   "cell_type": "markdown",
   "id": "fb1d5cd6-8779-4d3a-b864-077c4b6c5a11",
   "metadata": {},
   "source": []
  },
  {
   "cell_type": "code",
   "execution_count": 6,
   "id": "083402cc-3358-49b9-8e18-5103aa4b589f",
   "metadata": {},
   "outputs": [],
   "source": [
    "gift = ['Flowers', 'Books', 'Perfume', 'Bags']"
   ]
  },
  {
   "cell_type": "code",
   "execution_count": 7,
   "id": "e5ef20cf-89f5-4331-8e6d-603c7f904d76",
   "metadata": {},
   "outputs": [
    {
     "name": "stdout",
     "output_type": "stream",
     "text": [
      "['Flowers', 'Books', 'Perfume', 'Bags']\n"
     ]
    }
   ],
   "source": [
    "print(gift) # list is ordered"
   ]
  },
  {
   "cell_type": "code",
   "execution_count": 8,
   "id": "4e22f7f3-efd1-4f44-b2d5-d82c0f87f9f1",
   "metadata": {},
   "outputs": [
    {
     "data": {
      "text/plain": [
       "'Perfume'"
      ]
     },
     "execution_count": 8,
     "metadata": {},
     "output_type": "execute_result"
    }
   ],
   "source": [
    "gift[2]  # indexing "
   ]
  },
  {
   "cell_type": "code",
   "execution_count": 9,
   "id": "c0ef72f6-77aa-4848-b0eb-860c5e47d8a7",
   "metadata": {},
   "outputs": [
    {
     "data": {
      "text/plain": [
       "124930703055360"
      ]
     },
     "execution_count": 9,
     "metadata": {},
     "output_type": "execute_result"
    }
   ],
   "source": [
    "id(gift)"
   ]
  },
  {
   "cell_type": "code",
   "execution_count": 10,
   "id": "53de15e2-2f41-4c75-9a28-b5a3973344af",
   "metadata": {},
   "outputs": [],
   "source": [
    "gift.append('Mobile Phone')"
   ]
  },
  {
   "cell_type": "code",
   "execution_count": 11,
   "id": "00e22af2-f773-470a-aeb9-1bfb87829083",
   "metadata": {},
   "outputs": [
    {
     "data": {
      "text/plain": [
       "['Flowers', 'Books', 'Perfume', 'Bags', 'Mobile Phone']"
      ]
     },
     "execution_count": 11,
     "metadata": {},
     "output_type": "execute_result"
    }
   ],
   "source": [
    "gift"
   ]
  },
  {
   "cell_type": "code",
   "execution_count": 12,
   "id": "da8ab48c-c410-4750-9346-fd4734ceae85",
   "metadata": {},
   "outputs": [
    {
     "data": {
      "text/plain": [
       "124930703055360"
      ]
     },
     "execution_count": 12,
     "metadata": {},
     "output_type": "execute_result"
    }
   ],
   "source": [
    "id(gift) # The memory location of the gift variable didnot change after update. It means list is a mutable data type. "
   ]
  },
  {
   "cell_type": "code",
   "execution_count": 13,
   "id": "d93ed364-a367-4d37-9ddf-fa04fd2b0bc1",
   "metadata": {},
   "outputs": [],
   "source": [
    "gift.append('Flowers')"
   ]
  },
  {
   "cell_type": "code",
   "execution_count": 14,
   "id": "b3060860-5d65-4331-a859-d7d5c35683c8",
   "metadata": {},
   "outputs": [
    {
     "data": {
      "text/plain": [
       "['Flowers', 'Books', 'Perfume', 'Bags', 'Mobile Phone', 'Flowers']"
      ]
     },
     "execution_count": 14,
     "metadata": {},
     "output_type": "execute_result"
    }
   ],
   "source": [
    "gift"
   ]
  },
  {
   "cell_type": "code",
   "execution_count": 15,
   "id": "031753e9-e581-49a7-b5bf-12e8dc38ba94",
   "metadata": {},
   "outputs": [],
   "source": [
    "my_list = [4, 5.5, 'kshitiz', [5, 4] ]"
   ]
  },
  {
   "cell_type": "code",
   "execution_count": 16,
   "id": "1c3b265e-f262-42f8-815a-549817ddaec5",
   "metadata": {},
   "outputs": [
    {
     "data": {
      "text/plain": [
       "[4, 5.5, 'kshitiz', [5, 4]]"
      ]
     },
     "execution_count": 16,
     "metadata": {},
     "output_type": "execute_result"
    }
   ],
   "source": [
    "my_list"
   ]
  },
  {
   "cell_type": "code",
   "execution_count": 17,
   "id": "5e958eed-35a1-45d9-8a0c-58f4c688e128",
   "metadata": {},
   "outputs": [
    {
     "data": {
      "text/plain": [
       "(4, int)"
      ]
     },
     "execution_count": 17,
     "metadata": {},
     "output_type": "execute_result"
    }
   ],
   "source": [
    "my_list[0] , type(my_list[0])"
   ]
  },
  {
   "cell_type": "code",
   "execution_count": 18,
   "id": "f17565e9-5a85-45f4-bd58-78001a8ee8aa",
   "metadata": {},
   "outputs": [
    {
     "data": {
      "text/plain": [
       "(5.5, float)"
      ]
     },
     "execution_count": 18,
     "metadata": {},
     "output_type": "execute_result"
    }
   ],
   "source": [
    "my_list[1] , type(my_list[1])"
   ]
  },
  {
   "cell_type": "code",
   "execution_count": 19,
   "id": "bcdab142-097b-4176-9819-93ddcbc38964",
   "metadata": {},
   "outputs": [
    {
     "data": {
      "text/plain": [
       "('kshitiz', str)"
      ]
     },
     "execution_count": 19,
     "metadata": {},
     "output_type": "execute_result"
    }
   ],
   "source": [
    "my_list[2] , type(my_list[2])"
   ]
  },
  {
   "cell_type": "code",
   "execution_count": 20,
   "id": "b3ab2710-b09c-47a1-8b69-93ef84c15a7b",
   "metadata": {},
   "outputs": [
    {
     "data": {
      "text/plain": [
       "([5, 4], list)"
      ]
     },
     "execution_count": 20,
     "metadata": {},
     "output_type": "execute_result"
    }
   ],
   "source": [
    "my_list[3] , type(my_list[3])"
   ]
  },
  {
   "cell_type": "code",
   "execution_count": null,
   "id": "e0c3bd87-f91e-4803-a76d-d31949c785f9",
   "metadata": {},
   "outputs": [],
   "source": []
  },
  {
   "cell_type": "code",
   "execution_count": null,
   "id": "7937b908-4112-48ee-a2e3-3c1485516bec",
   "metadata": {},
   "outputs": [],
   "source": []
  },
  {
   "cell_type": "code",
   "execution_count": null,
   "id": "810d69bc-f222-432c-a7f4-9f12671cc2b9",
   "metadata": {},
   "outputs": [],
   "source": []
  },
  {
   "cell_type": "code",
   "execution_count": null,
   "id": "cd322968-8534-4cf7-ba17-e1e1d18328bd",
   "metadata": {},
   "outputs": [],
   "source": []
  },
  {
   "cell_type": "code",
   "execution_count": null,
   "id": "339ba318-12f0-4077-ac39-d033e6b07d93",
   "metadata": {},
   "outputs": [],
   "source": []
  },
  {
   "cell_type": "code",
   "execution_count": null,
   "id": "bf84c475-4ce0-4b64-8977-a0f2b1c40fdc",
   "metadata": {},
   "outputs": [],
   "source": []
  },
  {
   "cell_type": "code",
   "execution_count": null,
   "id": "c63066d0-472b-4aa9-9333-a67e5d0e2f50",
   "metadata": {},
   "outputs": [],
   "source": []
  },
  {
   "cell_type": "markdown",
   "id": "04b116e5-b255-45f5-b126-960ca265d33c",
   "metadata": {},
   "source": [
    "# List Comprehension\n",
    "List comprehension is a shorter and cleaner way to create new lists from existing iterables (like lists, ranges, strings).\n",
    "\n",
    "\n",
    "## 🔧 **Basic Syntax:**\n",
    "\n",
    "```python\n",
    "[expression for item in iterable]\n",
    "```\n",
    "\n",
    "### ➕ With condition:\n",
    "\n",
    "```python\n",
    "[expression for item in iterable if condition]\n",
    "```\n",
    "\n",
    "### ➕ With if-else:\n",
    "\n",
    "```python\n",
    "[expression_if_true if condition else expression_if_false for item in iterable]\n",
    "```"
   ]
  },
  {
   "cell_type": "markdown",
   "id": "1e8b1c27-ab88-4b3e-b26a-8953a381c573",
   "metadata": {},
   "source": [
    "## 💡 Examples\n",
    "\n",
    "### 1. ✅ **Basic Example**\n",
    "\n",
    "📌 Square every number in a list:"
   ]
  },
  {
   "cell_type": "code",
   "execution_count": null,
   "id": "b9ed659e-4fa3-4ab2-ac3d-5dddc5270bb2",
   "metadata": {},
   "outputs": [],
   "source": []
  },
  {
   "cell_type": "code",
   "execution_count": null,
   "id": "47b928df-e965-4f21-9b42-1af7b0b55315",
   "metadata": {},
   "outputs": [],
   "source": []
  },
  {
   "cell_type": "code",
   "execution_count": null,
   "id": "a114bfbe-da0d-4737-bef0-b391a278c8fd",
   "metadata": {},
   "outputs": [],
   "source": []
  },
  {
   "cell_type": "code",
   "execution_count": null,
   "id": "da7ce9e3-a02c-4e80-a356-d028331c26b7",
   "metadata": {},
   "outputs": [],
   "source": []
  },
  {
   "cell_type": "markdown",
   "id": "223957d5-20b0-4fe7-9fac-829b2c1aa049",
   "metadata": {},
   "source": [
    "### 2. ✅ **With Condition**\n",
    "\n",
    "📌 Get only even numbers:"
   ]
  },
  {
   "cell_type": "code",
   "execution_count": null,
   "id": "12c74cb7-a0a9-4a43-a17b-b7c69e2e7d4b",
   "metadata": {},
   "outputs": [],
   "source": []
  },
  {
   "cell_type": "code",
   "execution_count": null,
   "id": "a1d17d20-98ce-4f75-a63a-f193f971d913",
   "metadata": {},
   "outputs": [],
   "source": []
  },
  {
   "cell_type": "code",
   "execution_count": null,
   "id": "82ba82cf-615d-4b8c-bd44-bed2b87f9ff4",
   "metadata": {},
   "outputs": [],
   "source": []
  },
  {
   "cell_type": "code",
   "execution_count": null,
   "id": "364bff3c-9e9a-4a1e-b802-22f089999f80",
   "metadata": {},
   "outputs": [],
   "source": []
  },
  {
   "cell_type": "code",
   "execution_count": null,
   "id": "3155f21c-51d7-43be-9449-3ed9b9131a5e",
   "metadata": {},
   "outputs": [],
   "source": []
  },
  {
   "cell_type": "markdown",
   "id": "dc41cb09-b903-4497-b05c-a2363c2d28c6",
   "metadata": {},
   "source": [
    "### 3. ✅ **With If-Else Condition**\n",
    "\n",
    "📌 Label numbers as 'Even' or 'Odd':"
   ]
  },
  {
   "cell_type": "code",
   "execution_count": null,
   "id": "71332e1b-2e34-4b65-920e-f030bad664d5",
   "metadata": {},
   "outputs": [],
   "source": []
  },
  {
   "cell_type": "code",
   "execution_count": null,
   "id": "5ee80cb7-a65f-4cf3-b974-1686017a7bb7",
   "metadata": {},
   "outputs": [],
   "source": []
  },
  {
   "cell_type": "code",
   "execution_count": null,
   "id": "72a99fee-8a84-4f72-af28-706fb07a08a5",
   "metadata": {},
   "outputs": [],
   "source": []
  },
  {
   "cell_type": "code",
   "execution_count": null,
   "id": "383f58ce-2e65-4001-b2c3-35025153b591",
   "metadata": {},
   "outputs": [],
   "source": []
  }
 ],
 "metadata": {
  "kernelspec": {
   "display_name": "Python 3 (ipykernel)",
   "language": "python",
   "name": "python3"
  },
  "language_info": {
   "codemirror_mode": {
    "name": "ipython",
    "version": 3
   },
   "file_extension": ".py",
   "mimetype": "text/x-python",
   "name": "python",
   "nbconvert_exporter": "python",
   "pygments_lexer": "ipython3",
   "version": "3.12.4"
  }
 },
 "nbformat": 4,
 "nbformat_minor": 5
}
