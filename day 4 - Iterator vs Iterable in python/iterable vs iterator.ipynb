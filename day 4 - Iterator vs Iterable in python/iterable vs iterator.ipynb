{
 "cells": [
  {
   "cell_type": "markdown",
   "id": "fb5c43f6-c81e-410e-b6cd-7be64cea2b8f",
   "metadata": {},
   "source": [
    "# Day 4: Machine Learning Interview Prep\n",
    "## Python Learning Series: Iterable vs Iterator"
   ]
  },
  {
   "cell_type": "markdown",
   "id": "742315ed-95a2-48b1-bc09-69c6bb1bb15a",
   "metadata": {},
   "source": [
    "# Iterable\n",
    "An Iterable is an object for example lists, strings, tuples, sets, dictionaries that you can loop over.\n",
    "*  If an object has an `__iter__` method, it's an iterable."
   ]
  },
  {
   "cell_type": "code",
   "execution_count": 2,
   "id": "639d0ad4-fe63-4c71-b419-5749563bb66e",
   "metadata": {},
   "outputs": [],
   "source": [
    "gift = ['Books', 'Flowers', 'Perfumes', 'Chocolates']       # Iterable"
   ]
  },
  {
   "cell_type": "code",
   "execution_count": 3,
   "id": "d2c110e8-bd41-450b-9d4a-c3550adda327",
   "metadata": {},
   "outputs": [
    {
     "name": "stdout",
     "output_type": "stream",
     "text": [
      "Books\n",
      "Flowers\n",
      "Perfumes\n",
      "Chocolates\n"
     ]
    }
   ],
   "source": [
    "for item in gift:\n",
    "    print(item)"
   ]
  },
  {
   "cell_type": "code",
   "execution_count": null,
   "id": "ef18c120-c9d4-42e5-8d46-2abfa35f86a9",
   "metadata": {},
   "outputs": [],
   "source": []
  },
  {
   "cell_type": "code",
   "execution_count": null,
   "id": "30800820-38dc-4504-939c-a9c1efeff386",
   "metadata": {},
   "outputs": [],
   "source": []
  },
  {
   "cell_type": "markdown",
   "id": "3acb7c31-6cfc-471b-9442-a120fb23ddd1",
   "metadata": {},
   "source": [
    "## Iterator\n",
    "\n",
    "Iterator: The Looping Machine\n",
    "\n",
    "An iterator is the object that actually does the looping. \n",
    "* It keeps track of where it is in the sequence and knows how to get the next item. \n",
    "\n",
    "* It has a `__next__` method, which, when called, gives you the next value. When there are no more values, it raises a StopIteration error.\n",
    "\n",
    "**You can get an iterator from an iterable using the iter() function.**\n",
    "\n"
   ]
  },
  {
   "cell_type": "code",
   "execution_count": 4,
   "id": "ba6bb0e5-6980-4e14-ab01-a08790157d31",
   "metadata": {},
   "outputs": [],
   "source": [
    "gift = ['Books', 'Flowers', 'Perfumes', 'Chocolates']       # Iterable\n",
    "gift_iterator = iter(gift)  # iterator"
   ]
  },
  {
   "cell_type": "code",
   "execution_count": 5,
   "id": "bd93ba9c-f84c-4791-9761-df5861ba8110",
   "metadata": {},
   "outputs": [
    {
     "data": {
      "text/plain": [
       "<list_iterator at 0x773f80667910>"
      ]
     },
     "execution_count": 5,
     "metadata": {},
     "output_type": "execute_result"
    }
   ],
   "source": [
    "gift_iterator"
   ]
  },
  {
   "cell_type": "code",
   "execution_count": 6,
   "id": "e4074acb-1b62-4de0-ae6d-4802b21f835e",
   "metadata": {},
   "outputs": [
    {
     "data": {
      "text/plain": [
       "'Books'"
      ]
     },
     "execution_count": 6,
     "metadata": {},
     "output_type": "execute_result"
    }
   ],
   "source": [
    "next(gift_iterator)"
   ]
  },
  {
   "cell_type": "code",
   "execution_count": 7,
   "id": "93d82699-0c0e-476b-9c6b-6a8063416e23",
   "metadata": {},
   "outputs": [
    {
     "data": {
      "text/plain": [
       "'Flowers'"
      ]
     },
     "execution_count": 7,
     "metadata": {},
     "output_type": "execute_result"
    }
   ],
   "source": [
    "next(gift_iterator)"
   ]
  },
  {
   "cell_type": "code",
   "execution_count": 8,
   "id": "d2734a5b-faca-46ed-9c57-b325297ad64a",
   "metadata": {},
   "outputs": [
    {
     "data": {
      "text/plain": [
       "'Perfumes'"
      ]
     },
     "execution_count": 8,
     "metadata": {},
     "output_type": "execute_result"
    }
   ],
   "source": [
    "next(gift_iterator)"
   ]
  },
  {
   "cell_type": "code",
   "execution_count": 9,
   "id": "7270db17-86b7-4b7e-83f2-32375fe08403",
   "metadata": {},
   "outputs": [
    {
     "data": {
      "text/plain": [
       "'Chocolates'"
      ]
     },
     "execution_count": 9,
     "metadata": {},
     "output_type": "execute_result"
    }
   ],
   "source": [
    "next(gift_iterator)"
   ]
  },
  {
   "cell_type": "code",
   "execution_count": 10,
   "id": "f1a16585-09f7-4695-93fd-f2655ef03ec2",
   "metadata": {},
   "outputs": [
    {
     "ename": "StopIteration",
     "evalue": "",
     "output_type": "error",
     "traceback": [
      "\u001b[0;31m---------------------------------------------------------------------------\u001b[0m",
      "\u001b[0;31mStopIteration\u001b[0m                             Traceback (most recent call last)",
      "Cell \u001b[0;32mIn[10], line 1\u001b[0m\n\u001b[0;32m----> 1\u001b[0m \u001b[38;5;28;43mnext\u001b[39;49m\u001b[43m(\u001b[49m\u001b[43mgift_iterator\u001b[49m\u001b[43m)\u001b[49m\n",
      "\u001b[0;31mStopIteration\u001b[0m: "
     ]
    }
   ],
   "source": [
    "next(gift_iterator)"
   ]
  },
  {
   "cell_type": "code",
   "execution_count": null,
   "id": "99040d32-ca06-45e7-aa4c-eafa7708c9db",
   "metadata": {},
   "outputs": [],
   "source": []
  }
 ],
 "metadata": {
  "kernelspec": {
   "display_name": "Python 3 (ipykernel)",
   "language": "python",
   "name": "python3"
  },
  "language_info": {
   "codemirror_mode": {
    "name": "ipython",
    "version": 3
   },
   "file_extension": ".py",
   "mimetype": "text/x-python",
   "name": "python",
   "nbconvert_exporter": "python",
   "pygments_lexer": "ipython3",
   "version": "3.12.4"
  }
 },
 "nbformat": 4,
 "nbformat_minor": 5
}
