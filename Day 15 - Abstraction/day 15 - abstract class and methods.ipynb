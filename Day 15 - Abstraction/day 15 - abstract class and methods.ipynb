{
 "cells": [
  {
   "cell_type": "markdown",
   "id": "546ca289-88f2-49c6-8665-5d5fdbf843fb",
   "metadata": {},
   "source": [
    "# Day 15: Abstraction in Python - Abstract class and Methods | ML Interview Prep - KodedByKshitiz\n"
   ]
  },
  {
   "attachments": {
    "1eb67f90-31d4-46b3-b2f0-794ed8b3482f.png": {
     "image/png": "[encoded data removed]"
    }
   },
   "cell_type": "markdown",
   "id": "236b4e03-d6ba-4e9e-a42e-570b9368900d",
   "metadata": {},
   "source": [
    "![image.png](attachment:1eb67f90-31d4-46b3-b2f0-794ed8b3482f.png)\n",
    "\n",
    "### 📐 Formulas Recap\n",
    "\n",
    "#### 🔵 Circle\n",
    "\n",
    "* **Area**:\n",
    "\n",
    "  $$\n",
    "  A = \\pi r^2\n",
    "  $$\n",
    "* **Perimeter (Circumference)**:\n",
    "\n",
    "  $$\n",
    "  C = 2\\pi r\n",
    "  $$\n",
    "\n",
    "#### 🟩 Rectangle\n",
    "\n",
    "* **Area**:\n",
    "\n",
    "  $$\n",
    "  A = \\text{width} \\times \\text{height}\n",
    "  $$\n",
    "* **Perimeter**:\n",
    "\n",
    "  $$\n",
    "  P = 2(\\text{width} + \\text{height})\n",
    "  $$\n",
    "\n",
    "---"
   ]
  },
  {
   "cell_type": "code",
   "execution_count": 10,
   "id": "00a3fcc5-bc84-4e89-9726-ab89e9640b43",
   "metadata": {},
   "outputs": [],
   "source": [
    "class Shape: # parent class\n",
    "    def area(self):\n",
    "        pass\n",
    "    def perimeter(self):\n",
    "        pass\n",
    "\n",
    "class Rectangle(Shape):  # child class\n",
    "    def __init__(self, l, b):\n",
    "        super().__init__()\n",
    "        self.l = l\n",
    "        self.b = b\n",
    "    def area(self):\n",
    "        return self.l * self.b\n",
    "    def perimeter(self):\n",
    "        return 2 * (self.l + self.b)"
   ]
  },
  {
   "cell_type": "code",
   "execution_count": 11,
   "id": "ab2d18f7-9774-4f7d-a50b-57ffb2cc7eb1",
   "metadata": {},
   "outputs": [
    {
     "data": {
      "text/plain": [
       "10"
      ]
     },
     "execution_count": 11,
     "metadata": {},
     "output_type": "execute_result"
    }
   ],
   "source": [
    "r1 = Rectangle(l=5, b=2)\n",
    "r1.area()"
   ]
  },
  {
   "cell_type": "code",
   "execution_count": 30,
   "id": "9789124b-b168-434e-a1fd-40bab2f7d981",
   "metadata": {},
   "outputs": [],
   "source": []
  },
  {
   "cell_type": "code",
   "execution_count": 31,
   "id": "c1691bdb-50b1-4878-9116-26103c7999ee",
   "metadata": {},
   "outputs": [
    {
     "ename": "TypeError",
     "evalue": "Can't instantiate abstract class Circle without an implementation for abstract method 'perimeter'",
     "output_type": "error",
     "traceback": [
      "\u001b[0;31m---------------------------------------------------------------------------\u001b[0m",
      "\u001b[0;31mTypeError\u001b[0m                                 Traceback (most recent call last)",
      "Cell \u001b[0;32mIn[31], line 1\u001b[0m\n\u001b[0;32m----> 1\u001b[0m c1 \u001b[38;5;241m=\u001b[39m \u001b[43mCircle\u001b[49m\u001b[43m(\u001b[49m\u001b[43mr\u001b[49m\u001b[38;5;241;43m=\u001b[39;49m\u001b[38;5;241;43m5\u001b[39;49m\u001b[43m)\u001b[49m\n\u001b[1;32m      2\u001b[0m c1\u001b[38;5;241m.\u001b[39marea()\n",
      "\u001b[0;31mTypeError\u001b[0m: Can't instantiate abstract class Circle without an implementation for abstract method 'perimeter'"
     ]
    }
   ],
   "source": []
  },
  {
   "cell_type": "markdown",
   "id": "0198ea11-7ebc-42b6-90a1-edfa0361fbac",
   "metadata": {},
   "source": []
  },
  {
   "cell_type": "markdown",
   "id": "92ed54e8-890f-4eb2-830f-d1e8cd1b1b34",
   "metadata": {},
   "source": [
    "# Rule Enforcement using abstract class and methods\n",
    "\n",
    "By defining an abstract class Shape with abstract methods like area() and perimeter(), you force every subclass (like Circle, Rectangle) to implement those methods.\n",
    "\n",
    "If a subclass doesn’t implement them, Python will raise an error. This guarantees that every shape behaves consistently."
   ]
  },
  {
   "cell_type": "code",
   "execution_count": 12,
   "id": "9296489f-34b4-429c-8a27-5b65d0c09fb6",
   "metadata": {},
   "outputs": [],
   "source": [
    "from abc import ABC, abstractmethod"
   ]
  },
  {
   "cell_type": "code",
   "execution_count": 13,
   "id": "b5e93851-9246-4446-a81a-7b6de95093f8",
   "metadata": {},
   "outputs": [],
   "source": [
    "class Shape(ABC): # abstract class\n",
    "    @abstractmethod\n",
    "    def area(self):\n",
    "        pass\n",
    "    @abstractmethod\n",
    "    def perimeter(self):\n",
    "        pass"
   ]
  },
  {
   "cell_type": "code",
   "execution_count": 24,
   "id": "9d8b6dba-7b7a-462f-9dba-fae38f6db274",
   "metadata": {},
   "outputs": [],
   "source": [
    "class Rectangle(Shape):  # child class\n",
    "    def __init__(self, l, b):\n",
    "        super().__init__()\n",
    "        self.l = l\n",
    "        self.b = b\n",
    "    def area(self):\n",
    "        return self.l * self.b\n",
    "    def perimeter(self):\n",
    "        return 2 * (self.l + self.b)"
   ]
  },
  {
   "cell_type": "code",
   "execution_count": 25,
   "id": "59440fc2-8ebb-4493-96fa-f1109931193e",
   "metadata": {},
   "outputs": [],
   "source": [
    "r1 = Rectangle(l=5, b=2)"
   ]
  },
  {
   "cell_type": "code",
   "execution_count": 26,
   "id": "e5c3d7dc-9219-4402-bfcb-5a81e7492608",
   "metadata": {},
   "outputs": [
    {
     "data": {
      "text/plain": [
       "10"
      ]
     },
     "execution_count": 26,
     "metadata": {},
     "output_type": "execute_result"
    }
   ],
   "source": [
    "r1.area()"
   ]
  },
  {
   "cell_type": "code",
   "execution_count": 27,
   "id": "36711d29-e931-4441-8a93-ba8e653cdf55",
   "metadata": {},
   "outputs": [
    {
     "data": {
      "text/plain": [
       "14"
      ]
     },
     "execution_count": 27,
     "metadata": {},
     "output_type": "execute_result"
    }
   ],
   "source": [
    "r1.perimeter()"
   ]
  },
  {
   "cell_type": "code",
   "execution_count": null,
   "id": "9bf584d3-c276-40a6-9061-fc113ae32c32",
   "metadata": {},
   "outputs": [],
   "source": []
  },
  {
   "cell_type": "code",
   "execution_count": null,
   "id": "afd0f45d-722b-4dbc-9ad0-531fdb19b4dd",
   "metadata": {},
   "outputs": [],
   "source": []
  },
  {
   "cell_type": "code",
   "execution_count": 34,
   "id": "d417ac30-618d-4523-808d-595e9b9f083f",
   "metadata": {},
   "outputs": [],
   "source": [
    "import math\n",
    "\n",
    "class Shape(ABC): # abstract class\n",
    "    @abstractmethod\n",
    "    def area(self):\n",
    "        pass\n",
    "    @abstractmethod\n",
    "    def perimeter(self):\n",
    "        pass\n",
    "        \n",
    "class Circle(Shape):  # child class\n",
    "    def __init__(self, r):\n",
    "        super().__init__()\n",
    "        self.r = r\n",
    "    def area(self):\n",
    "        return math.pi * self.r ** 2\n",
    "    def perimeter(self):\n",
    "        return 2 * math.pi * self.r"
   ]
  },
  {
   "cell_type": "code",
   "execution_count": 35,
   "id": "4dec56d9-ed30-4ee5-a868-ad3086f5ed75",
   "metadata": {},
   "outputs": [
    {
     "data": {
      "text/plain": [
       "78.53981633974483"
      ]
     },
     "execution_count": 35,
     "metadata": {},
     "output_type": "execute_result"
    }
   ],
   "source": [
    "c1 = Circle(r=5)\n",
    "c1.area()"
   ]
  },
  {
   "cell_type": "code",
   "execution_count": null,
   "id": "af668dcf-614f-4609-8fa7-1218a432f1bf",
   "metadata": {},
   "outputs": [],
   "source": []
  },
  {
   "cell_type": "code",
   "execution_count": null,
   "id": "c8162b0f-01b1-4dbd-98ed-bbf8b7c971a4",
   "metadata": {},
   "outputs": [],
   "source": []
  },
  {
   "cell_type": "code",
   "execution_count": null,
   "id": "4970cc45-3501-4435-82ae-90a684c48be3",
   "metadata": {},
   "outputs": [],
   "source": []
  },
  {
   "cell_type": "markdown",
   "id": "69b988ba-2fb4-417a-b496-12ab4a7934bb",
   "metadata": {},
   "source": [
    "# Can I create object of abstract class?  - No"
   ]
  },
  {
   "cell_type": "code",
   "execution_count": 36,
   "id": "32e462f2-c087-46a4-bf62-1728a2c27d29",
   "metadata": {},
   "outputs": [],
   "source": [
    "class Shape(ABC): # abstract class\n",
    "    @abstractmethod\n",
    "    def area(self):\n",
    "        pass\n",
    "    @abstractmethod\n",
    "    def perimeter(self):\n",
    "        pass"
   ]
  },
  {
   "cell_type": "code",
   "execution_count": 37,
   "id": "f6cac6ed-bda9-43d2-a600-f2ebdd16034a",
   "metadata": {},
   "outputs": [
    {
     "ename": "TypeError",
     "evalue": "Can't instantiate abstract class Shape without an implementation for abstract methods 'area', 'perimeter'",
     "output_type": "error",
     "traceback": [
      "\u001b[0;31m---------------------------------------------------------------------------\u001b[0m",
      "\u001b[0;31mTypeError\u001b[0m                                 Traceback (most recent call last)",
      "Cell \u001b[0;32mIn[37], line 1\u001b[0m\n\u001b[0;32m----> 1\u001b[0m s1 \u001b[38;5;241m=\u001b[39m \u001b[43mShape\u001b[49m\u001b[43m(\u001b[49m\u001b[43m)\u001b[49m\n",
      "\u001b[0;31mTypeError\u001b[0m: Can't instantiate abstract class Shape without an implementation for abstract methods 'area', 'perimeter'"
     ]
    }
   ],
   "source": [
    "s1 = Shape()"
   ]
  },
  {
   "cell_type": "code",
   "execution_count": null,
   "id": "3850c466-5fb4-49a1-87c8-8e4847bbce9d",
   "metadata": {},
   "outputs": [],
   "source": []
  },
  {
   "cell_type": "code",
   "execution_count": null,
   "id": "7f07a8c8-c112-46fd-84d1-88b458e6789f",
   "metadata": {},
   "outputs": [],
   "source": []
  },
  {
   "cell_type": "code",
   "execution_count": null,
   "id": "599b857a-2246-48cf-9277-133d5a9ec708",
   "metadata": {},
   "outputs": [],
   "source": []
  },
  {
   "cell_type": "markdown",
   "id": "d5dcdaf4-2df6-4f56-8825-8dfe86ee5f10",
   "metadata": {},
   "source": [
    "## Summary\n",
    "\n",
    "In Python, an abstract class is a class that cannot be instantiated on its own and is meant to be a blueprint for other classes. \n",
    "It can contain abstract methods, which are methods declared but not implemented in the abstract class.\n",
    "\n",
    "* Abstract Class: A class that contains one or more abstract methods. It’s defined using the ABC module.\n",
    "* Abstract Method: A method that is declared in the abstract class but must be implemented by any subclass or a child class."
   ]
  },
  {
   "cell_type": "code",
   "execution_count": null,
   "id": "c8421107-cc81-4b05-bebf-35db7ac09c54",
   "metadata": {},
   "outputs": [],
   "source": []
  }
 ],
 "metadata": {
  "kernelspec": {
   "display_name": "Python 3 (ipykernel)",
   "language": "python",
   "name": "python3"
  },
  "language_info": {
   "codemirror_mode": {
    "name": "ipython",
    "version": 3
   },
   "file_extension": ".py",
   "mimetype": "text/x-python",
   "name": "python",
   "nbconvert_exporter": "python",
   "pygments_lexer": "ipython3",
   "version": "3.12.4"
  }
 },
 "nbformat": 4,
 "nbformat_minor": 5
}
