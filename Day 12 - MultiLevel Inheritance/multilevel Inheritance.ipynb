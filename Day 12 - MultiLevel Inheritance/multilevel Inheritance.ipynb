{
 "cells": [
  {
   "cell_type": "markdown",
   "id": "c40dbe48-847e-4092-b615-1ef5f867c1d2",
   "metadata": {},
   "source": [
    "# Day 12: MultiLevel Inheritance in Python | ML Interview Prep - KodedByKshitiz\n",
    "\n",
    "<img src=\"https://www.scientecheasy.com/wp-content/uploads/2023/09/python-multilevel-inheritance.png\" width=400>\n",
    "Source: https://www.scientecheasy.com/2023/09/multilevel-inheritance-in-python.html/"
   ]
  },
  {
   "cell_type": "code",
   "execution_count": 1,
   "id": "3bf8eb44-d53b-4479-ab10-7b26dc7ce6c3",
   "metadata": {},
   "outputs": [],
   "source": [
    "class GrandParent:\n",
    "    def display_grand_parent(self):\n",
    "        print(\"I am a method of GrandParent Class\")\n",
    "\n",
    "class Parent(GrandParent):\n",
    "    def __init__(self):\n",
    "        super().__init__()\n",
    "        \n",
    "    def display_parents(self):\n",
    "        print(\"I am a method of Parent Class\")\n",
    "\n",
    "class Child(Parent):\n",
    "    def __init__(self):\n",
    "        super().__init__()\n",
    "    \n",
    "    def display_child(self):\n",
    "        print(\"I am a method of Child class\")"
   ]
  },
  {
   "cell_type": "code",
   "execution_count": 2,
   "id": "ea89e433-f893-4761-953f-1c0df0a65bc8",
   "metadata": {},
   "outputs": [
    {
     "name": "stdout",
     "output_type": "stream",
     "text": [
      "I am a method of GrandParent Class\n"
     ]
    }
   ],
   "source": [
    "c1 = Child()\n",
    "c1.display_grand_parent()"
   ]
  },
  {
   "cell_type": "code",
   "execution_count": 3,
   "id": "8bfc8645-999b-4cb4-9413-93f69b7587d9",
   "metadata": {},
   "outputs": [
    {
     "name": "stdout",
     "output_type": "stream",
     "text": [
      "I am a method of Parent Class\n"
     ]
    }
   ],
   "source": [
    "c1.display_parents()"
   ]
  },
  {
   "cell_type": "code",
   "execution_count": 4,
   "id": "4f761074-5319-4389-9bd0-1387f7c07564",
   "metadata": {},
   "outputs": [
    {
     "name": "stdout",
     "output_type": "stream",
     "text": [
      "I am a method of Child class\n"
     ]
    }
   ],
   "source": [
    "c1.display_child()"
   ]
  },
  {
   "cell_type": "code",
   "execution_count": null,
   "id": "04038475-3903-4139-a4be-ef272e99dfb8",
   "metadata": {},
   "outputs": [],
   "source": []
  }
 ],
 "metadata": {
  "kernelspec": {
   "display_name": "Python 3 (ipykernel)",
   "language": "python",
   "name": "python3"
  },
  "language_info": {
   "codemirror_mode": {
    "name": "ipython",
    "version": 3
   },
   "file_extension": ".py",
   "mimetype": "text/x-python",
   "name": "python",
   "nbconvert_exporter": "python",
   "pygments_lexer": "ipython3",
   "version": "3.12.4"
  }
 },
 "nbformat": 4,
 "nbformat_minor": 5
}
