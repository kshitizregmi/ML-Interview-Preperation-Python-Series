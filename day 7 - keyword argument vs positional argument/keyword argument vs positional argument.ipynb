{
 "cells": [
  {
   "cell_type": "markdown",
   "id": "04c6bb2c-18d2-4e2e-be89-0f9984293cb8",
   "metadata": {},
   "source": [
    "# Day 8: Keyword Argument vs Positional argument | ML Interview Prep - KodedByKshitiz"
   ]
  },
  {
   "cell_type": "markdown",
   "id": "4d031eb9-be93-4473-a66f-7c5feba54fa0",
   "metadata": {},
   "source": [
    "# Keyword Argument\n",
    "A **keyword argument** in Python is an **argument passed to a function with a name or key**, so the function knows exactly which parameter it corresponds to."
   ]
  },
  {
   "cell_type": "code",
   "execution_count": 1,
   "id": "f0d85d40-b188-4cd6-a898-53548ae0afb3",
   "metadata": {},
   "outputs": [],
   "source": [
    "def sub(num1, num2):\n",
    "    return num1 - num2"
   ]
  },
  {
   "cell_type": "code",
   "execution_count": 2,
   "id": "d0659b0e-4748-438b-8b8e-3f9413dae273",
   "metadata": {},
   "outputs": [
    {
     "data": {
      "text/plain": [
       "7"
      ]
     },
     "execution_count": 2,
     "metadata": {},
     "output_type": "execute_result"
    }
   ],
   "source": [
    "sub(num1=12, num2=5)"
   ]
  },
  {
   "cell_type": "code",
   "execution_count": 3,
   "id": "d474952c-11ff-442a-a79c-e4d9017881d7",
   "metadata": {},
   "outputs": [
    {
     "data": {
      "text/plain": [
       "7"
      ]
     },
     "execution_count": 3,
     "metadata": {},
     "output_type": "execute_result"
    }
   ],
   "source": [
    "sub(num2=5, num1=12)"
   ]
  },
  {
   "cell_type": "code",
   "execution_count": null,
   "id": "2a3ff220-9a73-487a-9b4c-f1c1f080be2e",
   "metadata": {},
   "outputs": [],
   "source": []
  },
  {
   "cell_type": "code",
   "execution_count": null,
   "id": "2fd71052-9efa-442f-985e-b4acad307389",
   "metadata": {},
   "outputs": [],
   "source": []
  },
  {
   "cell_type": "markdown",
   "id": "7cd79d0c-b52e-4244-b3ba-c45746dc833e",
   "metadata": {},
   "source": [
    "## Why Use Keyword Arguments?\n",
    "Clarity: Makes the function call easier to read.\n",
    "Flexibility: You can pass arguments in any order if you use keywords."
   ]
  },
  {
   "cell_type": "markdown",
   "id": "cf60236f-8795-4198-9af2-81aa99e46e37",
   "metadata": {},
   "source": [
    "# Positional arguments\n",
    "\n",
    "A **positional argument** in Python is an argument that is **passed to a function in the correct position or order** as defined in the function’s parameter list.\n"
   ]
  },
  {
   "cell_type": "code",
   "execution_count": 4,
   "id": "d119e543-f821-4f4b-9731-003ebf81decd",
   "metadata": {},
   "outputs": [],
   "source": [
    "def sub(num1, num2):\n",
    "    return num1 - num2"
   ]
  },
  {
   "cell_type": "code",
   "execution_count": 5,
   "id": "dd7f8049-d3a7-4859-b4fa-069f5889fe27",
   "metadata": {},
   "outputs": [
    {
     "data": {
      "text/plain": [
       "7"
      ]
     },
     "execution_count": 5,
     "metadata": {},
     "output_type": "execute_result"
    }
   ],
   "source": [
    "sub(12, 5)"
   ]
  },
  {
   "cell_type": "code",
   "execution_count": 6,
   "id": "6e3700ab-3a3c-4054-981e-a9f558fdfd85",
   "metadata": {},
   "outputs": [
    {
     "data": {
      "text/plain": [
       "-7"
      ]
     },
     "execution_count": 6,
     "metadata": {},
     "output_type": "execute_result"
    }
   ],
   "source": [
    "sub(5, 12)"
   ]
  },
  {
   "cell_type": "code",
   "execution_count": null,
   "id": "c34d0345-1851-4a9e-a109-1413146f44bb",
   "metadata": {},
   "outputs": [],
   "source": []
  },
  {
   "cell_type": "markdown",
   "id": "bd9302a9-9d17-4201-8c96-5c537ee0afa3",
   "metadata": {},
   "source": []
  },
  {
   "cell_type": "markdown",
   "id": "11be924f-1673-458f-86b2-32d94901643f",
   "metadata": {},
   "source": [
    "### **Key Difference between Positional and Keyword Arguments**\n",
    "\n",
    "| Feature              | Positional Argument       | Keyword Argument           |\n",
    "|----------------------|---------------------------|----------------------------|\n",
    "| Order matters?       | Yes                       |  No                      |\n",
    "| Syntax               | `func(\"Kshitiz\", \"Hi\")`   | `func(name=\"Kshitiz\", message=\"Hi\")` |\n",
    "| Readability          | Less clear                | More clear                 |\n",
    "\n",
    "---"
   ]
  },
  {
   "cell_type": "code",
   "execution_count": null,
   "id": "6ceb9328-7eec-4a5e-b420-3d6d0d71d00d",
   "metadata": {},
   "outputs": [],
   "source": []
  }
 ],
 "metadata": {
  "kernelspec": {
   "display_name": "Python 3 (ipykernel)",
   "language": "python",
   "name": "python3"
  },
  "language_info": {
   "codemirror_mode": {
    "name": "ipython",
    "version": 3
   },
   "file_extension": ".py",
   "mimetype": "text/x-python",
   "name": "python",
   "nbconvert_exporter": "python",
   "pygments_lexer": "ipython3",
   "version": "3.12.4"
  }
 },
 "nbformat": 4,
 "nbformat_minor": 5
}
