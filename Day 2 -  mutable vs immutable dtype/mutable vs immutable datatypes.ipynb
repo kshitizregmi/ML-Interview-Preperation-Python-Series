{
 "cells": [
  {
   "cell_type": "markdown",
   "id": "e275730f-685b-45d8-a166-af2292f0d6cd",
   "metadata": {},
   "source": [
    "# Day 2: Machine Learning Interview Preperation (Python Series)\n",
    "## Mutable vs Immutable data types\n",
    "Example of list and string."
   ]
  },
  {
   "cell_type": "code",
   "execution_count": 1,
   "id": "ddccc92b-5fb2-40d1-98f7-7aefaae918f1",
   "metadata": {},
   "outputs": [],
   "source": [
    "# mutable datatype"
   ]
  },
  {
   "cell_type": "code",
   "execution_count": 2,
   "id": "776e5ace-2a5b-444e-8ee4-22256f3bcdbd",
   "metadata": {},
   "outputs": [
    {
     "data": {
      "text/plain": [
       "['Flowers', 'Watch', 'Books']"
      ]
     },
     "execution_count": 2,
     "metadata": {},
     "output_type": "execute_result"
    }
   ],
   "source": [
    "gift = ['Flowers', 'Watch', 'Books']\n",
    "gift"
   ]
  },
  {
   "cell_type": "code",
   "execution_count": 3,
   "id": "b13ddef6-6485-4894-9092-56a4db8c3c0b",
   "metadata": {},
   "outputs": [
    {
     "data": {
      "text/plain": [
       "131897037634688"
      ]
     },
     "execution_count": 3,
     "metadata": {},
     "output_type": "execute_result"
    }
   ],
   "source": [
    "id(gift)"
   ]
  },
  {
   "cell_type": "code",
   "execution_count": 4,
   "id": "8a21c4ab-589d-44ca-98bf-0d6f1e0db372",
   "metadata": {},
   "outputs": [],
   "source": [
    "gift.append('Chocolates')"
   ]
  },
  {
   "cell_type": "code",
   "execution_count": 5,
   "id": "ff022f83-4332-424f-9259-5cf9e8941d9f",
   "metadata": {},
   "outputs": [
    {
     "data": {
      "text/plain": [
       "['Flowers', 'Watch', 'Books', 'Chocolates']"
      ]
     },
     "execution_count": 5,
     "metadata": {},
     "output_type": "execute_result"
    }
   ],
   "source": [
    "gift"
   ]
  },
  {
   "cell_type": "code",
   "execution_count": 6,
   "id": "702930c4-18f9-4a57-9b5e-9ad3bc596605",
   "metadata": {},
   "outputs": [
    {
     "data": {
      "text/plain": [
       "131897037634688"
      ]
     },
     "execution_count": 6,
     "metadata": {},
     "output_type": "execute_result"
    }
   ],
   "source": [
    "id(gift)"
   ]
  },
  {
   "cell_type": "code",
   "execution_count": 8,
   "id": "c195f61f-623a-48a0-8d99-ef24c788a901",
   "metadata": {},
   "outputs": [],
   "source": [
    "gift[1] = 'Perfumes'"
   ]
  },
  {
   "cell_type": "code",
   "execution_count": 9,
   "id": "e80f811e-1aac-4c45-840b-8b7eb6713a45",
   "metadata": {},
   "outputs": [
    {
     "data": {
      "text/plain": [
       "['Flowers', 'Perfumes', 'Books', 'Chocolates']"
      ]
     },
     "execution_count": 9,
     "metadata": {},
     "output_type": "execute_result"
    }
   ],
   "source": [
    "gift"
   ]
  },
  {
   "cell_type": "code",
   "execution_count": 10,
   "id": "18da04ab-7ce9-4a00-8c1e-f4ba88c0fc48",
   "metadata": {},
   "outputs": [
    {
     "data": {
      "text/plain": [
       "131897037634688"
      ]
     },
     "execution_count": 10,
     "metadata": {},
     "output_type": "execute_result"
    }
   ],
   "source": [
    "id(gift)"
   ]
  },
  {
   "cell_type": "code",
   "execution_count": 11,
   "id": "8c92642f-7b1a-474c-bfce-d1f7728ee0ff",
   "metadata": {},
   "outputs": [],
   "source": [
    "# immutable data type"
   ]
  },
  {
   "cell_type": "code",
   "execution_count": 15,
   "id": "b9248a77-56db-4ed2-b1b8-80a782c54994",
   "metadata": {},
   "outputs": [
    {
     "data": {
      "text/plain": [
       "'k$hitiz'"
      ]
     },
     "execution_count": 15,
     "metadata": {},
     "output_type": "execute_result"
    }
   ],
   "source": [
    "name = 'k$hitiz'\n",
    "name"
   ]
  },
  {
   "cell_type": "code",
   "execution_count": 16,
   "id": "e943f2c8-854f-471e-ae02-7aadef1c6e55",
   "metadata": {},
   "outputs": [
    {
     "data": {
      "text/plain": [
       "131897037877248"
      ]
     },
     "execution_count": 16,
     "metadata": {},
     "output_type": "execute_result"
    }
   ],
   "source": [
    "id(name)"
   ]
  },
  {
   "cell_type": "code",
   "execution_count": 17,
   "id": "0a71a3bd-6d94-4986-b7c2-56baf5caf342",
   "metadata": {},
   "outputs": [
    {
     "ename": "TypeError",
     "evalue": "'str' object does not support item assignment",
     "output_type": "error",
     "traceback": [
      "\u001b[0;31m---------------------------------------------------------------------------\u001b[0m",
      "\u001b[0;31mTypeError\u001b[0m                                 Traceback (most recent call last)",
      "Cell \u001b[0;32mIn[17], line 1\u001b[0m\n\u001b[0;32m----> 1\u001b[0m \u001b[43mname\u001b[49m\u001b[43m[\u001b[49m\u001b[38;5;241;43m1\u001b[39;49m\u001b[43m]\u001b[49m \u001b[38;5;241m=\u001b[39m \u001b[38;5;124m'\u001b[39m\u001b[38;5;124ms\u001b[39m\u001b[38;5;124m'\u001b[39m\n",
      "\u001b[0;31mTypeError\u001b[0m: 'str' object does not support item assignment"
     ]
    }
   ],
   "source": [
    "name[1] = 's'"
   ]
  },
  {
   "cell_type": "code",
   "execution_count": 18,
   "id": "89e220a5-98d7-4a52-bf08-7359c25263eb",
   "metadata": {},
   "outputs": [],
   "source": [
    "# solution"
   ]
  },
  {
   "cell_type": "code",
   "execution_count": 25,
   "id": "174cea73-3755-43d9-8c26-b79b11728529",
   "metadata": {},
   "outputs": [
    {
     "data": {
      "text/plain": [
       "'k$hitiz'"
      ]
     },
     "execution_count": 25,
     "metadata": {},
     "output_type": "execute_result"
    }
   ],
   "source": [
    "name = 'k$hitiz'\n",
    "name"
   ]
  },
  {
   "cell_type": "code",
   "execution_count": 26,
   "id": "08b1d4b5-e274-4c44-a3f2-d2dc8e59511e",
   "metadata": {},
   "outputs": [
    {
     "data": {
      "text/plain": [
       "131897036742480"
      ]
     },
     "execution_count": 26,
     "metadata": {},
     "output_type": "execute_result"
    }
   ],
   "source": [
    "id(name)"
   ]
  },
  {
   "cell_type": "code",
   "execution_count": 27,
   "id": "01c40759-0071-45e7-8049-93ee1f8f247c",
   "metadata": {},
   "outputs": [],
   "source": [
    "name = name.replace(\"$\", 's')"
   ]
  },
  {
   "cell_type": "code",
   "execution_count": 28,
   "id": "a2ff3a6a-b29d-417e-8285-8ef8669e4129",
   "metadata": {},
   "outputs": [
    {
     "data": {
      "text/plain": [
       "'kshitiz'"
      ]
     },
     "execution_count": 28,
     "metadata": {},
     "output_type": "execute_result"
    }
   ],
   "source": [
    "name"
   ]
  },
  {
   "cell_type": "code",
   "execution_count": 29,
   "id": "32f981f2-4dc7-438a-aac0-bf46acb99ca6",
   "metadata": {},
   "outputs": [
    {
     "data": {
      "text/plain": [
       "131897036741808"
      ]
     },
     "execution_count": 29,
     "metadata": {},
     "output_type": "execute_result"
    }
   ],
   "source": [
    "id(name)"
   ]
  },
  {
   "cell_type": "code",
   "execution_count": null,
   "id": "17f1e06f-0d9d-4f1d-b3c8-aad4f3df459c",
   "metadata": {},
   "outputs": [],
   "source": []
  }
 ],
 "metadata": {
  "kernelspec": {
   "display_name": "Python 3 (ipykernel)",
   "language": "python",
   "name": "python3"
  },
  "language_info": {
   "codemirror_mode": {
    "name": "ipython",
    "version": 3
   },
   "file_extension": ".py",
   "mimetype": "text/x-python",
   "name": "python",
   "nbconvert_exporter": "python",
   "pygments_lexer": "ipython3",
   "version": "3.12.4"
  }
 },
 "nbformat": 4,
 "nbformat_minor": 5
}
