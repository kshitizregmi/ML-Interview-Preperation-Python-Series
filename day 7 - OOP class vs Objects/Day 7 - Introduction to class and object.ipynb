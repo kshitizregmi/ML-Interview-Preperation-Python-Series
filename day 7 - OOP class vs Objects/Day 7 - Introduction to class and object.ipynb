{
 "cells": [
  {
   "cell_type": "markdown",
   "id": "bf1e2d17-ccfd-463d-8464-383ff4cecd3c",
   "metadata": {},
   "source": [
    "# 📘 Day 7: Introducation to OOP | ML Interview Prep - KodedByKshitiz\n",
    "## Class and Objects\n",
    "\n",
    "* A class is like a template — it defines what attributes and behaviors something should have.\n",
    "* An object is a specific instance of that class — it has actual values for those attributes.\n",
    "For example:\n",
    "\n",
    "__Mammal is a class. It defines what a mammal should be like (e.g., has hair).\n",
    "Human is an object (or instance) of the class Mammal. So is Cow.__"
   ]
  },
  {
   "cell_type": "code",
   "execution_count": 4,
   "id": "a6ac31fd-566d-4215-81ca-4f2dadcc35f4",
   "metadata": {},
   "outputs": [],
   "source": [
    "class Mammal:\n",
    "    pass     # pass is a keyword or a placeholder to write a future code"
   ]
  },
  {
   "cell_type": "code",
   "execution_count": 5,
   "id": "437a0aad-bac5-4084-9f91-9dff2ae2fe3a",
   "metadata": {},
   "outputs": [],
   "source": [
    "human = Mammal()"
   ]
  },
  {
   "cell_type": "code",
   "execution_count": 6,
   "id": "adbde11d-1579-4fdf-a8e0-5aa71277d695",
   "metadata": {},
   "outputs": [
    {
     "name": "stdout",
     "output_type": "stream",
     "text": [
      "<class '__main__.Mammal'>\n"
     ]
    }
   ],
   "source": [
    "print(type(human)) "
   ]
  },
  {
   "cell_type": "markdown",
   "id": "3a7c9bae-f9ea-4437-9987-0c9d16123a40",
   "metadata": {},
   "source": [
    "# Class attribute"
   ]
  },
  {
   "cell_type": "code",
   "execution_count": 7,
   "id": "995cba24-40a7-40b8-9786-ea09a309f1c4",
   "metadata": {},
   "outputs": [],
   "source": [
    "class Mammal:\n",
    "    has_hair = True  # class attribute"
   ]
  },
  {
   "cell_type": "code",
   "execution_count": 8,
   "id": "27f4a4d5-112e-4218-8fd3-804ed1a79341",
   "metadata": {},
   "outputs": [
    {
     "data": {
      "text/plain": [
       "<__main__.Mammal at 0x7413cc519940>"
      ]
     },
     "execution_count": 8,
     "metadata": {},
     "output_type": "execute_result"
    }
   ],
   "source": [
    "human = Mammal()  # human is an object\n",
    "human"
   ]
  },
  {
   "cell_type": "code",
   "execution_count": 9,
   "id": "fd5c32e1-d24b-47ec-a68e-e1b9d35e26c4",
   "metadata": {},
   "outputs": [
    {
     "data": {
      "text/plain": [
       "True"
      ]
     },
     "execution_count": 9,
     "metadata": {},
     "output_type": "execute_result"
    }
   ],
   "source": [
    "human.has_hair"
   ]
  },
  {
   "cell_type": "code",
   "execution_count": 10,
   "id": "0d9995dc-99e3-4697-9b9f-9e28abda0101",
   "metadata": {},
   "outputs": [
    {
     "data": {
      "text/plain": [
       "True"
      ]
     },
     "execution_count": 10,
     "metadata": {},
     "output_type": "execute_result"
    }
   ],
   "source": [
    "cow = Mammal()  # cow is an object\n",
    "cow.has_hair"
   ]
  },
  {
   "cell_type": "code",
   "execution_count": null,
   "id": "29756267-ed81-4012-9933-013e729ab1e1",
   "metadata": {},
   "outputs": [],
   "source": [
    "# class attribue is same for all objects"
   ]
  },
  {
   "cell_type": "markdown",
   "id": "c9859bdf-01fa-4022-a197-23d2b8c14cec",
   "metadata": {},
   "source": [
    "# Object attribute"
   ]
  },
  {
   "cell_type": "code",
   "execution_count": 19,
   "id": "7d5bc803-1d00-4e92-bf22-ad636eebbea8",
   "metadata": {},
   "outputs": [],
   "source": [
    "class Mammal:\n",
    "    has_hair = True  # class attribute\n",
    "    def __init__(self, leg_count): # initializing object attribute leg_count\n",
    "        self.leg_count = leg_count"
   ]
  },
  {
   "cell_type": "code",
   "execution_count": 20,
   "id": "1fd9896f-5b84-4f08-84e3-9abd889c9082",
   "metadata": {},
   "outputs": [],
   "source": [
    "human = Mammal(leg_count=2)\n",
    "dog = Mammal(leg_count=4)"
   ]
  },
  {
   "cell_type": "code",
   "execution_count": 21,
   "id": "27dd9726-e543-4c6c-bb23-6c468ac77f85",
   "metadata": {},
   "outputs": [
    {
     "data": {
      "text/plain": [
       "2"
      ]
     },
     "execution_count": 21,
     "metadata": {},
     "output_type": "execute_result"
    }
   ],
   "source": [
    "human.leg_count"
   ]
  },
  {
   "cell_type": "code",
   "execution_count": 22,
   "id": "58d49563-f2c2-49bc-b80a-a9de498a0486",
   "metadata": {},
   "outputs": [
    {
     "data": {
      "text/plain": [
       "4"
      ]
     },
     "execution_count": 22,
     "metadata": {},
     "output_type": "execute_result"
    }
   ],
   "source": [
    "dog.leg_count"
   ]
  },
  {
   "cell_type": "code",
   "execution_count": 23,
   "id": "522a4b0b-b91e-493b-88f7-8897e4bff490",
   "metadata": {},
   "outputs": [
    {
     "data": {
      "text/plain": [
       "True"
      ]
     },
     "execution_count": 23,
     "metadata": {},
     "output_type": "execute_result"
    }
   ],
   "source": [
    "human.has_hair"
   ]
  },
  {
   "cell_type": "code",
   "execution_count": 24,
   "id": "e500655d-99a9-4e25-b549-d233b505a1b7",
   "metadata": {},
   "outputs": [
    {
     "data": {
      "text/plain": [
       "True"
      ]
     },
     "execution_count": 24,
     "metadata": {},
     "output_type": "execute_result"
    }
   ],
   "source": [
    "dog.has_hair"
   ]
  },
  {
   "cell_type": "markdown",
   "id": "38cfc421-b49d-4dd7-9561-cc55364fb32a",
   "metadata": {},
   "source": [
    "# What does `__init__()` mean in python?\n",
    "* It is an object attribute initializer.\n",
    "* It is not technically a constructor.\n",
    "\n",
    "* In python `__new__()` is a constructor because it creates an object.\n",
    "* `__init__()` is object attribute initilizer. init and new work together to create an object. "
   ]
  },
  {
   "cell_type": "code",
   "execution_count": null,
   "id": "4fe89c99-a9c3-42b3-8a82-f40e29ebf2d4",
   "metadata": {},
   "outputs": [],
   "source": []
  }
 ],
 "metadata": {
  "kernelspec": {
   "display_name": "Python 3 (ipykernel)",
   "language": "python",
   "name": "python3"
  },
  "language_info": {
   "codemirror_mode": {
    "name": "ipython",
    "version": 3
   },
   "file_extension": ".py",
   "mimetype": "text/x-python",
   "name": "python",
   "nbconvert_exporter": "python",
   "pygments_lexer": "ipython3",
   "version": "3.12.4"
  }
 },
 "nbformat": 4,
 "nbformat_minor": 5
}
