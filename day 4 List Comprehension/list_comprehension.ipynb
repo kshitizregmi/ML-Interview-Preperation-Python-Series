{
 "cells": [
  {
   "cell_type": "markdown",
   "id": "a3009e9b-3357-4a5f-bb77-7d7a06c76030",
   "metadata": {},
   "source": [
    "# Day 5: Machine Learning Interview Preparation\n",
    "## Python Learning Series: List Comprehension"
   ]
  },
  {
   "cell_type": "markdown",
   "id": "47f0b28f-9ce3-44bd-91c9-bc81dd04d74a",
   "metadata": {},
   "source": [
    "# List Comprehension\n",
    "List comprehension is a shorter and cleaner way to create new lists from existing iterables (like lists, ranges, strings).\n",
    "\n",
    "\n",
    "## 🔧 **Basic Syntax:**\n",
    "\n",
    "```python\n",
    "[expression for item in iterable]\n",
    "```\n",
    "\n",
    "### ➕ With condition:\n",
    "\n",
    "```python\n",
    "[expression for item in iterable if condition]\n",
    "```\n",
    "\n",
    "### ➕ With if-else:\n",
    "\n",
    "```python\n",
    "[expression_if_true if condition else expression_if_false for item in iterable]\n",
    "or \n",
    "[Expression if condition else expression for item in iterable]\n",
    "```"
   ]
  },
  {
   "cell_type": "markdown",
   "id": "e3db480b-c8b4-4ea7-bb94-1662a77ce3ae",
   "metadata": {},
   "source": [
    "✅ Difference between Iterable and Iterator\n",
    "\n",
    "Iterable: Something you can loop over (like list, tuple, etc.).\n",
    "\n",
    "Iterator: The object that actually performs the iteration."
   ]
  },
  {
   "cell_type": "markdown",
   "id": "b967cac9-64dd-4a6b-b990-81802d28d4d4",
   "metadata": {},
   "source": [
    "## 💡 Examples\n",
    "\n",
    "### 1. ✅ **Basic Example**\n",
    "\n",
    "📌 Square every number in a list:"
   ]
  },
  {
   "cell_type": "code",
   "execution_count": 1,
   "id": "fc5289fc-cdd0-4841-b3eb-e185747dfa97",
   "metadata": {},
   "outputs": [
    {
     "name": "stdout",
     "output_type": "stream",
     "text": [
      "[2, 5, 9]\n"
     ]
    }
   ],
   "source": [
    "my_list = [2, 5, 9]\n",
    "print(my_list)"
   ]
  },
  {
   "cell_type": "code",
   "execution_count": 2,
   "id": "50660326-42f5-4a6f-8761-07f55c2de12a",
   "metadata": {},
   "outputs": [],
   "source": [
    "sq = list()\n",
    "for item in my_list:\n",
    "    sq.append(item**2)"
   ]
  },
  {
   "cell_type": "code",
   "execution_count": 3,
   "id": "eadb9646-a6e8-4dc3-b042-9e2d5df58bd2",
   "metadata": {},
   "outputs": [
    {
     "data": {
      "text/plain": [
       "[4, 25, 81]"
      ]
     },
     "execution_count": 3,
     "metadata": {},
     "output_type": "execute_result"
    }
   ],
   "source": [
    "sq"
   ]
  },
  {
   "cell_type": "code",
   "execution_count": 4,
   "id": "a7be13e3-4fa5-4251-a7e2-4667d604a035",
   "metadata": {},
   "outputs": [],
   "source": [
    "# List comperhension"
   ]
  },
  {
   "cell_type": "code",
   "execution_count": 5,
   "id": "9edebecd-ce24-424f-81c9-bd23c427099a",
   "metadata": {},
   "outputs": [
    {
     "data": {
      "text/plain": [
       "[4, 25, 81]"
      ]
     },
     "execution_count": 5,
     "metadata": {},
     "output_type": "execute_result"
    }
   ],
   "source": [
    "my_list = [2, 5, 9]\n",
    "sq = [item ** 2 for item in my_list] # [Expression for item in iterable]\n",
    "sq"
   ]
  },
  {
   "cell_type": "code",
   "execution_count": null,
   "id": "41de6290-c65b-4d71-8dc9-7167fd013ad8",
   "metadata": {},
   "outputs": [],
   "source": [
    "# Expression always returns a value. Value itself is an expression. Assignment operation is an expression\n",
    "\n",
    "y = 5"
   ]
  },
  {
   "cell_type": "code",
   "execution_count": null,
   "id": "35097774-8c07-4a94-a345-b33575f790f2",
   "metadata": {},
   "outputs": [],
   "source": []
  },
  {
   "cell_type": "markdown",
   "id": "5237453d-1c67-4e3d-a6b2-2a276f12187e",
   "metadata": {},
   "source": [
    "### 2. ✅ **With Condition**\n",
    "\n",
    "📌 Get only even numbers:"
   ]
  },
  {
   "cell_type": "code",
   "execution_count": 13,
   "id": "8faed983-4025-45f0-9ad7-16da67bd169d",
   "metadata": {},
   "outputs": [],
   "source": [
    "my_list = [1, 2, 4, 55, 62, 99]"
   ]
  },
  {
   "cell_type": "code",
   "execution_count": 14,
   "id": "2b3f0e26-8be2-4f5d-a508-ba77ed1c1c07",
   "metadata": {},
   "outputs": [],
   "source": [
    "even = list() # empty list\n",
    "for item in my_list:\n",
    "    if item % 2 == 0:\n",
    "        even.append(item)"
   ]
  },
  {
   "cell_type": "code",
   "execution_count": 15,
   "id": "0c45989d-74ca-4255-8dee-85baeba1aa26",
   "metadata": {},
   "outputs": [
    {
     "data": {
      "text/plain": [
       "[2, 4, 62]"
      ]
     },
     "execution_count": 15,
     "metadata": {},
     "output_type": "execute_result"
    }
   ],
   "source": [
    "even"
   ]
  },
  {
   "cell_type": "code",
   "execution_count": 16,
   "id": "7aded066-c3d9-4396-85d4-5dc1531792b1",
   "metadata": {},
   "outputs": [
    {
     "data": {
      "text/plain": [
       "[2, 4, 62]"
      ]
     },
     "execution_count": 16,
     "metadata": {},
     "output_type": "execute_result"
    }
   ],
   "source": [
    "my_list = [1, 2, 4, 55, 62, 99]\n",
    "even = [item for item in my_list if item % 2 == 0]  # [Expression for item in iterable if condition]\n",
    "even"
   ]
  },
  {
   "cell_type": "code",
   "execution_count": null,
   "id": "c94fb8e5-1b1f-4cc8-bdba-3270162b90d0",
   "metadata": {},
   "outputs": [],
   "source": []
  },
  {
   "cell_type": "code",
   "execution_count": null,
   "id": "be1d992a-3005-477e-be66-5b0b1f15b9da",
   "metadata": {},
   "outputs": [],
   "source": []
  },
  {
   "cell_type": "code",
   "execution_count": null,
   "id": "e157b64f-bd09-49e1-941a-0fde8115525e",
   "metadata": {},
   "outputs": [],
   "source": []
  },
  {
   "cell_type": "code",
   "execution_count": null,
   "id": "1258639d-ecea-46f7-a4b6-b665105a313e",
   "metadata": {},
   "outputs": [],
   "source": []
  },
  {
   "cell_type": "code",
   "execution_count": null,
   "id": "f47f6f93-e841-4495-b3e9-9c7052926c02",
   "metadata": {},
   "outputs": [],
   "source": []
  },
  {
   "cell_type": "code",
   "execution_count": null,
   "id": "f2e4aff1-45d8-43ec-a8b2-0c5e77e8d2b2",
   "metadata": {},
   "outputs": [],
   "source": []
  },
  {
   "cell_type": "code",
   "execution_count": null,
   "id": "bab9afb9-bafe-47c2-bd0f-aa8fc9cc72e6",
   "metadata": {},
   "outputs": [],
   "source": []
  },
  {
   "cell_type": "code",
   "execution_count": null,
   "id": "6dba4e79-ce83-4126-bb40-4297fd277b87",
   "metadata": {},
   "outputs": [],
   "source": []
  },
  {
   "cell_type": "markdown",
   "id": "26061ca4-8f98-45b9-8df3-ecfffe5cd891",
   "metadata": {},
   "source": [
    "### 3. ✅ **With If-Else Condition**\n",
    "\n",
    "📌 Label numbers as 'Even' or 'Odd':"
   ]
  },
  {
   "cell_type": "code",
   "execution_count": 17,
   "id": "f06cc593-cf61-4016-b28a-572d6d97be33",
   "metadata": {},
   "outputs": [],
   "source": [
    "my_list = [1, 2, 4, 55, 62, 99]\n",
    "# output = ['odd', 'even', 'even', 'odd', 'even', 'odd']"
   ]
  },
  {
   "cell_type": "code",
   "execution_count": 19,
   "id": "5ee76cda-c3bd-4553-aaed-4cc7ec9b14f3",
   "metadata": {},
   "outputs": [],
   "source": [
    "my_list = [1, 2, 4, 55, 62, 99]\n",
    "output = []\n",
    "for item in my_list:\n",
    "    if item % 2 == 0:\n",
    "        output.append(\"even\")\n",
    "    else:\n",
    "        output.append(\"odd\")"
   ]
  },
  {
   "cell_type": "code",
   "execution_count": 20,
   "id": "2afbbda0-33aa-43d5-b8ce-dfbe23161440",
   "metadata": {},
   "outputs": [
    {
     "data": {
      "text/plain": [
       "['odd', 'even', 'even', 'odd', 'even', 'odd']"
      ]
     },
     "execution_count": 20,
     "metadata": {},
     "output_type": "execute_result"
    }
   ],
   "source": [
    "output"
   ]
  },
  {
   "cell_type": "code",
   "execution_count": 21,
   "id": "c1e5f125-afa5-45af-a17f-3989fecd12f9",
   "metadata": {},
   "outputs": [],
   "source": [
    "# alternative solution using list comprehension"
   ]
  },
  {
   "cell_type": "code",
   "execution_count": 23,
   "id": "21741ec5-4fb2-458c-8bd4-ea71f311f045",
   "metadata": {},
   "outputs": [
    {
     "data": {
      "text/plain": [
       "['odd', 'even', 'even', 'odd', 'even', 'odd']"
      ]
     },
     "execution_count": 23,
     "metadata": {},
     "output_type": "execute_result"
    }
   ],
   "source": [
    "my_list = [1, 2, 4, 55, 62, 99]\n",
    "output = [\"even\" if item % 2 == 0 else \"odd\" for item in my_list] \n",
    "output"
   ]
  },
  {
   "cell_type": "code",
   "execution_count": 24,
   "id": "c167edd5-ad06-434a-8228-7fa5789635a2",
   "metadata": {},
   "outputs": [],
   "source": [
    "# [Expression if condition else expression for item in iterable]"
   ]
  },
  {
   "cell_type": "code",
   "execution_count": null,
   "id": "3791212f-487a-49ad-9104-30cd036fa711",
   "metadata": {},
   "outputs": [],
   "source": []
  }
 ],
 "metadata": {
  "kernelspec": {
   "display_name": "Python 3 (ipykernel)",
   "language": "python",
   "name": "python3"
  },
  "language_info": {
   "codemirror_mode": {
    "name": "ipython",
    "version": 3
   },
   "file_extension": ".py",
   "mimetype": "text/x-python",
   "name": "python",
   "nbconvert_exporter": "python",
   "pygments_lexer": "ipython3",
   "version": "3.12.4"
  }
 },
 "nbformat": 4,
 "nbformat_minor": 5
}
