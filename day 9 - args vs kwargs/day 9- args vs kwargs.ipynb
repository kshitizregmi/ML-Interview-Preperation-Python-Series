{
 "cells": [
  {
   "cell_type": "markdown",
   "id": "cb6e1d2d-2a00-4657-9691-b852f0587ab0",
   "metadata": {},
   "source": [
    "# Day 8: `*args` Vs `**kwargs` | ML Interview Prep - KodedByKshitiz"
   ]
  },
  {
   "cell_type": "code",
   "execution_count": 1,
   "id": "3c6f19b9-9248-449d-9d2b-31eee02c8fe0",
   "metadata": {},
   "outputs": [],
   "source": [
    "def addition(num1, num2):\n",
    "    return num1 + num2"
   ]
  },
  {
   "cell_type": "code",
   "execution_count": 2,
   "id": "e8920841-d8ce-4752-9346-d15148f242e6",
   "metadata": {},
   "outputs": [
    {
     "data": {
      "text/plain": [
       "14"
      ]
     },
     "execution_count": 2,
     "metadata": {},
     "output_type": "execute_result"
    }
   ],
   "source": [
    "addition(num1=5, num2=9)"
   ]
  },
  {
   "cell_type": "code",
   "execution_count": 3,
   "id": "a6394003-7f77-4f28-9e15-9e4353a50d0d",
   "metadata": {},
   "outputs": [
    {
     "data": {
      "text/plain": [
       "14"
      ]
     },
     "execution_count": 3,
     "metadata": {},
     "output_type": "execute_result"
    }
   ],
   "source": [
    "addition(5, 9)"
   ]
  },
  {
   "cell_type": "code",
   "execution_count": 4,
   "id": "37fab4b1-bfbd-455b-81bc-32063f69e5e5",
   "metadata": {},
   "outputs": [
    {
     "ename": "TypeError",
     "evalue": "addition() takes 2 positional arguments but 3 were given",
     "output_type": "error",
     "traceback": [
      "\u001b[0;31m---------------------------------------------------------------------------\u001b[0m",
      "\u001b[0;31mTypeError\u001b[0m                                 Traceback (most recent call last)",
      "Cell \u001b[0;32mIn[4], line 1\u001b[0m\n\u001b[0;32m----> 1\u001b[0m \u001b[43maddition\u001b[49m\u001b[43m(\u001b[49m\u001b[38;5;241;43m5\u001b[39;49m\u001b[43m,\u001b[49m\u001b[43m \u001b[49m\u001b[38;5;241;43m9\u001b[39;49m\u001b[43m,\u001b[49m\u001b[43m \u001b[49m\u001b[38;5;241;43m2\u001b[39;49m\u001b[43m)\u001b[49m\n",
      "\u001b[0;31mTypeError\u001b[0m: addition() takes 2 positional arguments but 3 were given"
     ]
    }
   ],
   "source": [
    "addition(5, 9, 2)"
   ]
  },
  {
   "cell_type": "code",
   "execution_count": 8,
   "id": "1b994236-e23d-422f-a200-155bc8840920",
   "metadata": {},
   "outputs": [],
   "source": [
    "def addition(*args):\n",
    "    print(args)\n",
    "    print(type(args))"
   ]
  },
  {
   "cell_type": "code",
   "execution_count": 9,
   "id": "a659aebe-c4d9-4eaa-99c4-9b5d4d2291f3",
   "metadata": {},
   "outputs": [
    {
     "name": "stdout",
     "output_type": "stream",
     "text": [
      "(2, 5, 9)\n",
      "<class 'tuple'>\n"
     ]
    }
   ],
   "source": [
    "addition(2, 5, 9)"
   ]
  },
  {
   "cell_type": "code",
   "execution_count": 10,
   "id": "f566f550-1e4a-4f47-bae1-694e1e07852d",
   "metadata": {},
   "outputs": [
    {
     "name": "stdout",
     "output_type": "stream",
     "text": [
      "(8, 2)\n",
      "<class 'tuple'>\n"
     ]
    }
   ],
   "source": [
    "addition(8, 2)"
   ]
  },
  {
   "cell_type": "code",
   "execution_count": 11,
   "id": "fa53f09e-023d-4670-b18d-4d8fc2ba27ed",
   "metadata": {},
   "outputs": [],
   "source": [
    "# add n numbers using args"
   ]
  },
  {
   "cell_type": "code",
   "execution_count": 12,
   "id": "23a5ba91-f995-49e3-861f-3f707ee3e7ad",
   "metadata": {},
   "outputs": [],
   "source": [
    "def addition(*args):\n",
    "    return sum(args)"
   ]
  },
  {
   "cell_type": "code",
   "execution_count": 13,
   "id": "5ae76be2-08ed-4296-b616-2f5eb0da6de1",
   "metadata": {},
   "outputs": [
    {
     "data": {
      "text/plain": [
       "21"
      ]
     },
     "execution_count": 13,
     "metadata": {},
     "output_type": "execute_result"
    }
   ],
   "source": [
    "addition(5, 6, 7, 3)"
   ]
  },
  {
   "cell_type": "code",
   "execution_count": 14,
   "id": "74452e24-c224-4b52-be0d-2ea34c961a1d",
   "metadata": {},
   "outputs": [
    {
     "data": {
      "text/plain": [
       "14"
      ]
     },
     "execution_count": 14,
     "metadata": {},
     "output_type": "execute_result"
    }
   ],
   "source": [
    "addition(5, 9) # positionl arguments"
   ]
  },
  {
   "cell_type": "markdown",
   "id": "93016b93-cac8-42db-8d83-1802af279078",
   "metadata": {},
   "source": [
    "# `**kwargs`"
   ]
  },
  {
   "cell_type": "code",
   "execution_count": 15,
   "id": "ce697556-a26a-43c3-9f92-12a9c592ef52",
   "metadata": {},
   "outputs": [],
   "source": [
    "def greet(**kwargs):\n",
    "    print(kwargs, type(kwargs))"
   ]
  },
  {
   "cell_type": "code",
   "execution_count": 17,
   "id": "7cf0008f-fb01-48bf-a348-ccfae7d81b50",
   "metadata": {},
   "outputs": [
    {
     "name": "stdout",
     "output_type": "stream",
     "text": [
      "{'name': 'Kshitiz', 'msg': 'Hey Good Morning'} <class 'dict'>\n"
     ]
    }
   ],
   "source": [
    "greet(name='Kshitiz', msg='Hey Good Morning')"
   ]
  },
  {
   "cell_type": "code",
   "execution_count": 18,
   "id": "68e2fad8-b009-4e42-bba3-dda6aa6b05cd",
   "metadata": {},
   "outputs": [],
   "source": [
    "# whole example"
   ]
  },
  {
   "cell_type": "code",
   "execution_count": 21,
   "id": "ac1c2f6c-7455-4437-834a-9bec1b04a382",
   "metadata": {},
   "outputs": [],
   "source": [
    "def greet(**kwargs):\n",
    "    msg = kwargs.get(\"msg\")\n",
    "    name = kwargs.get(\"name\")\n",
    "    print(f\"{msg}, {name}\")"
   ]
  },
  {
   "cell_type": "code",
   "execution_count": 22,
   "id": "24a36ce9-9b1a-4e34-b293-ce4816c140c7",
   "metadata": {},
   "outputs": [
    {
     "name": "stdout",
     "output_type": "stream",
     "text": [
      "Good Morning!, Ram\n"
     ]
    }
   ],
   "source": [
    "greet(name='Ram', msg=\"Good Morning!\")"
   ]
  },
  {
   "cell_type": "code",
   "execution_count": 23,
   "id": "3e0c5da7-80cf-4801-9f0a-988f2a6213f8",
   "metadata": {},
   "outputs": [
    {
     "name": "stdout",
     "output_type": "stream",
     "text": [
      "Hey how are you?, Kshitiz\n"
     ]
    }
   ],
   "source": [
    "greet(name='Kshitiz', msg=\"Hey how are you?\")"
   ]
  },
  {
   "cell_type": "code",
   "execution_count": 24,
   "id": "6f1a8b9f-1753-4dcc-a3b8-05d9e94f5d67",
   "metadata": {},
   "outputs": [],
   "source": [
    "# combine args and kwargs"
   ]
  },
  {
   "cell_type": "code",
   "execution_count": 25,
   "id": "4129a54b-52cb-47dc-9b1d-aee99c0bf1b6",
   "metadata": {},
   "outputs": [],
   "source": [
    "def test(*args, **kwargs):\n",
    "    print(args)\n",
    "    print(kwargs)"
   ]
  },
  {
   "cell_type": "code",
   "execution_count": 26,
   "id": "160ec0e3-a15f-410a-8c1d-c5d697a5f32f",
   "metadata": {},
   "outputs": [
    {
     "name": "stdout",
     "output_type": "stream",
     "text": [
      "(1, 5, 9)\n",
      "{'name': 'Kshitiz', 'country': 'Nepal'}\n"
     ]
    }
   ],
   "source": [
    "test(1, 5, 9, name='Kshitiz', country='Nepal')"
   ]
  },
  {
   "cell_type": "code",
   "execution_count": null,
   "id": "c39407bd-123e-4c91-8122-c29ac04a1b7d",
   "metadata": {},
   "outputs": [],
   "source": []
  }
 ],
 "metadata": {
  "kernelspec": {
   "display_name": "Python 3 (ipykernel)",
   "language": "python",
   "name": "python3"
  },
  "language_info": {
   "codemirror_mode": {
    "name": "ipython",
    "version": 3
   },
   "file_extension": ".py",
   "mimetype": "text/x-python",
   "name": "python",
   "nbconvert_exporter": "python",
   "pygments_lexer": "ipython3",
   "version": "3.12.4"
  }
 },
 "nbformat": 4,
 "nbformat_minor": 5
}
