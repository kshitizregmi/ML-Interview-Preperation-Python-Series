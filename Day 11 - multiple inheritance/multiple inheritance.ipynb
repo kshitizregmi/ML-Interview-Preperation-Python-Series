{
 "cells": [
  {
   "cell_type": "markdown",
   "id": "55f97406-d3c5-457b-840e-e9b734bf8471",
   "metadata": {},
   "source": [
    "# **Day 11: Multiple Inheritance in Python | ML Interview Prep - KodedByKshitiz**\n",
    "<img src=\"https://www.scientecheasy.com/wp-content/uploads/2023/09/python-multiple-inheritance.png\" height=200 width=400>\n",
    "Source: https://www.scientecheasy.com/2023/09/multiple-inheritance-in-python.html/"
   ]
  },
  {
   "cell_type": "code",
   "execution_count": 2,
   "id": "f82b8442-da53-44d1-8364-42d2f46c1d1d",
   "metadata": {},
   "outputs": [],
   "source": [
    "class Father:\n",
    "    def __init__(self, father_name):\n",
    "        self.father_name = father_name\n",
    "    def get_father_name(self):\n",
    "        return self.father_name   # father object attribute\n",
    "\n",
    "class Mother:\n",
    "    def __init__(self, mother_name):\n",
    "        self.mother_name = mother_name\n",
    "    def get_mother_name(self):\n",
    "        return self.mother_name   # mother object attribute\n",
    "\n",
    "\n",
    "class Child(Father, Mother):\n",
    "    def __init__(self, father_name, mother_name, child_name):\n",
    "        Father.__init__(self, father_name)\n",
    "        Mother.__init__(self, mother_name)\n",
    "        self.child_name = child_name       # child object attribute\n",
    "    def get_child_name(self):\n",
    "        return self.child_name"
   ]
  },
  {
   "cell_type": "code",
   "execution_count": 4,
   "id": "a9490cc6-4e77-4ff9-8cae-fb9c9937bfdd",
   "metadata": {},
   "outputs": [],
   "source": [
    "c1 = Child(father_name='Ram', mother_name='Sita', child_name='LuvKush')"
   ]
  },
  {
   "cell_type": "code",
   "execution_count": 5,
   "id": "5019dd21-9ecf-40fb-93be-2342724fde91",
   "metadata": {},
   "outputs": [
    {
     "data": {
      "text/plain": [
       "'Ram'"
      ]
     },
     "execution_count": 5,
     "metadata": {},
     "output_type": "execute_result"
    }
   ],
   "source": [
    "c1.get_father_name() # method"
   ]
  },
  {
   "cell_type": "code",
   "execution_count": 6,
   "id": "bf4d24b0-b0d0-4470-b0a1-4d8979e7db2b",
   "metadata": {},
   "outputs": [
    {
     "data": {
      "text/plain": [
       "'Sita'"
      ]
     },
     "execution_count": 6,
     "metadata": {},
     "output_type": "execute_result"
    }
   ],
   "source": [
    "c1.get_mother_name() # method"
   ]
  },
  {
   "cell_type": "code",
   "execution_count": 7,
   "id": "760fdd02-1d5c-458f-8a9f-e808f7842300",
   "metadata": {},
   "outputs": [
    {
     "data": {
      "text/plain": [
       "'LuvKush'"
      ]
     },
     "execution_count": 7,
     "metadata": {},
     "output_type": "execute_result"
    }
   ],
   "source": [
    "c1.get_child_name() # method"
   ]
  },
  {
   "cell_type": "code",
   "execution_count": 8,
   "id": "040aa3e7-c634-4014-b25a-d5af9a9af674",
   "metadata": {},
   "outputs": [
    {
     "data": {
      "text/plain": [
       "'Ram'"
      ]
     },
     "execution_count": 8,
     "metadata": {},
     "output_type": "execute_result"
    }
   ],
   "source": [
    "c1.father_name # attribute"
   ]
  },
  {
   "cell_type": "code",
   "execution_count": 9,
   "id": "d0b41e79-d601-4880-aca8-55eccdfc47bc",
   "metadata": {},
   "outputs": [
    {
     "data": {
      "text/plain": [
       "'Sita'"
      ]
     },
     "execution_count": 9,
     "metadata": {},
     "output_type": "execute_result"
    }
   ],
   "source": [
    "c1.mother_name # attribute"
   ]
  },
  {
   "cell_type": "code",
   "execution_count": 10,
   "id": "654c6bed-7e3c-43bc-8686-7a4dc6d43525",
   "metadata": {},
   "outputs": [
    {
     "data": {
      "text/plain": [
       "'LuvKush'"
      ]
     },
     "execution_count": 10,
     "metadata": {},
     "output_type": "execute_result"
    }
   ],
   "source": [
    "c1.child_name  # attribute"
   ]
  },
  {
   "cell_type": "code",
   "execution_count": null,
   "id": "9ddc8bc8-763e-4073-8d8b-b6e137b75d0c",
   "metadata": {},
   "outputs": [],
   "source": []
  }
 ],
 "metadata": {
  "kernelspec": {
   "display_name": "Python 3 (ipykernel)",
   "language": "python",
   "name": "python3"
  },
  "language_info": {
   "codemirror_mode": {
    "name": "ipython",
    "version": 3
   },
   "file_extension": ".py",
   "mimetype": "text/x-python",
   "name": "python",
   "nbconvert_exporter": "python",
   "pygments_lexer": "ipython3",
   "version": "3.12.4"
  }
 },
 "nbformat": 4,
 "nbformat_minor": 5
}
